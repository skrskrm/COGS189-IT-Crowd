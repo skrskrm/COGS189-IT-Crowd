{
 "cells": [
  {
   "cell_type": "code",
   "execution_count": 1,
   "id": "34cf1f90",
   "metadata": {},
   "outputs": [],
   "source": [
    "#pip install pandas"
   ]
  },
  {
   "cell_type": "code",
   "execution_count": 2,
   "id": "dd20b37d",
   "metadata": {},
   "outputs": [],
   "source": [
    "#pip install mne matplotlib"
   ]
  },
  {
   "cell_type": "code",
   "execution_count": 69,
   "id": "a92b6c81",
   "metadata": {},
   "outputs": [],
   "source": [
    "import numpy as np\n",
    "import pandas as pd\n",
    "import matplotlib.pyplot as plt                         \n",
    "import matplotlib.patches as patches\n",
    "import scipy.signal as signal\n",
    "from scipy.signal import butter, sosfiltfilt, sosfreqz  \n",
    "from scipy.io import loadmat\n",
    "from sklearn.discriminant_analysis import LinearDiscriminantAnalysis\n",
    "from sklearn.model_selection import cross_val_score\n",
    "from sklearn.metrics import roc_curve, auc, roc_auc_score\n",
    "from sklearn.model_selection import StratifiedKFold\n",
    "from sklearn.model_selection import train_test_split, GridSearchCV\n",
    "from sklearn.ensemble import RandomForestClassifier\n",
    "from sklearn.metrics import accuracy_score, confusion_matrix\n",
    "\n",
    "import mne\n",
    "from xgboost import XGBClassifier\n",
    "from lightgbm import LGBMClassifier"
   ]
  },
  {
   "cell_type": "code",
   "execution_count": 4,
   "id": "a2245cd2",
   "metadata": {},
   "outputs": [
    {
     "data": {
      "text/html": [
       "<div>\n",
       "<style scoped>\n",
       "    .dataframe tbody tr th:only-of-type {\n",
       "        vertical-align: middle;\n",
       "    }\n",
       "\n",
       "    .dataframe tbody tr th {\n",
       "        vertical-align: top;\n",
       "    }\n",
       "\n",
       "    .dataframe thead th {\n",
       "        text-align: right;\n",
       "    }\n",
       "</style>\n",
       "<table border=\"1\" class=\"dataframe\">\n",
       "  <thead>\n",
       "    <tr style=\"text-align: right;\">\n",
       "      <th></th>\n",
       "      <th>subject</th>\n",
       "      <th>condition</th>\n",
       "      <th>Fz</th>\n",
       "      <th>FCz</th>\n",
       "      <th>Cz</th>\n",
       "      <th>FC3</th>\n",
       "      <th>FC4</th>\n",
       "      <th>C3</th>\n",
       "      <th>C4</th>\n",
       "      <th>CP3</th>\n",
       "      <th>CP4</th>\n",
       "      <th>time_ms</th>\n",
       "    </tr>\n",
       "  </thead>\n",
       "  <tbody>\n",
       "    <tr>\n",
       "      <th>0</th>\n",
       "      <td>1</td>\n",
       "      <td>1</td>\n",
       "      <td>5.533701</td>\n",
       "      <td>5.726507</td>\n",
       "      <td>5.469535</td>\n",
       "      <td>5.386723</td>\n",
       "      <td>4.588875</td>\n",
       "      <td>6.560092</td>\n",
       "      <td>4.542811</td>\n",
       "      <td>5.397492</td>\n",
       "      <td>5.103695</td>\n",
       "      <td>-1500.0000</td>\n",
       "    </tr>\n",
       "    <tr>\n",
       "      <th>1</th>\n",
       "      <td>1</td>\n",
       "      <td>1</td>\n",
       "      <td>5.651489</td>\n",
       "      <td>5.837326</td>\n",
       "      <td>5.773131</td>\n",
       "      <td>5.627975</td>\n",
       "      <td>4.822217</td>\n",
       "      <td>6.739976</td>\n",
       "      <td>4.811770</td>\n",
       "      <td>5.541357</td>\n",
       "      <td>5.379273</td>\n",
       "      <td>-1499.0234</td>\n",
       "    </tr>\n",
       "    <tr>\n",
       "      <th>2</th>\n",
       "      <td>1</td>\n",
       "      <td>1</td>\n",
       "      <td>5.717580</td>\n",
       "      <td>5.932924</td>\n",
       "      <td>5.948466</td>\n",
       "      <td>5.826460</td>\n",
       "      <td>4.979647</td>\n",
       "      <td>7.026199</td>\n",
       "      <td>5.053779</td>\n",
       "      <td>5.634972</td>\n",
       "      <td>5.600504</td>\n",
       "      <td>-1498.0469</td>\n",
       "    </tr>\n",
       "    <tr>\n",
       "      <th>3</th>\n",
       "      <td>1</td>\n",
       "      <td>1</td>\n",
       "      <td>5.703267</td>\n",
       "      <td>5.968103</td>\n",
       "      <td>5.851512</td>\n",
       "      <td>5.812192</td>\n",
       "      <td>4.992899</td>\n",
       "      <td>6.940671</td>\n",
       "      <td>5.106650</td>\n",
       "      <td>5.543577</td>\n",
       "      <td>5.589775</td>\n",
       "      <td>-1497.0703</td>\n",
       "    </tr>\n",
       "    <tr>\n",
       "      <th>4</th>\n",
       "      <td>1</td>\n",
       "      <td>1</td>\n",
       "      <td>5.571578</td>\n",
       "      <td>5.917541</td>\n",
       "      <td>5.812808</td>\n",
       "      <td>5.744715</td>\n",
       "      <td>4.963338</td>\n",
       "      <td>6.726491</td>\n",
       "      <td>5.158073</td>\n",
       "      <td>5.454069</td>\n",
       "      <td>5.614092</td>\n",
       "      <td>-1496.0938</td>\n",
       "    </tr>\n",
       "  </tbody>\n",
       "</table>\n",
       "</div>"
      ],
      "text/plain": [
       "   subject  condition        Fz       FCz        Cz       FC3       FC4  \\\n",
       "0        1          1  5.533701  5.726507  5.469535  5.386723  4.588875   \n",
       "1        1          1  5.651489  5.837326  5.773131  5.627975  4.822217   \n",
       "2        1          1  5.717580  5.932924  5.948466  5.826460  4.979647   \n",
       "3        1          1  5.703267  5.968103  5.851512  5.812192  4.992899   \n",
       "4        1          1  5.571578  5.917541  5.812808  5.744715  4.963338   \n",
       "\n",
       "         C3        C4       CP3       CP4    time_ms  \n",
       "0  6.560092  4.542811  5.397492  5.103695 -1500.0000  \n",
       "1  6.739976  4.811770  5.541357  5.379273 -1499.0234  \n",
       "2  7.026199  5.053779  5.634972  5.600504 -1498.0469  \n",
       "3  6.940671  5.106650  5.543577  5.589775 -1497.0703  \n",
       "4  6.726491  5.158073  5.454069  5.614092 -1496.0938  "
      ]
     },
     "execution_count": 4,
     "metadata": {},
     "output_type": "execute_result"
    }
   ],
   "source": [
    "df = pd.read_csv('ERPdata.csv')\n",
    "df.head()"
   ]
  },
  {
   "cell_type": "markdown",
   "id": "f1b2998b",
   "metadata": {},
   "source": [
    "## ERP Dataset Visualization"
   ]
  },
  {
   "cell_type": "code",
   "execution_count": 5,
   "id": "b911bff8",
   "metadata": {},
   "outputs": [
    {
     "data": {
      "text/plain": [
       "0         1\n",
       "1         1\n",
       "2         1\n",
       "3         1\n",
       "4         1\n",
       "         ..\n",
       "746491    3\n",
       "746492    3\n",
       "746493    3\n",
       "746494    3\n",
       "746495    3\n",
       "Name: condition, Length: 746496, dtype: int64"
      ]
     },
     "execution_count": 5,
     "metadata": {},
     "output_type": "execute_result"
    }
   ],
   "source": [
    "df['condition']"
   ]
  },
  {
   "cell_type": "code",
   "execution_count": 6,
   "id": "36bac625",
   "metadata": {
    "scrolled": true
   },
   "outputs": [
    {
     "data": {
      "text/html": [
       "<div>\n",
       "<style scoped>\n",
       "    .dataframe tbody tr th:only-of-type {\n",
       "        vertical-align: middle;\n",
       "    }\n",
       "\n",
       "    .dataframe tbody tr th {\n",
       "        vertical-align: top;\n",
       "    }\n",
       "\n",
       "    .dataframe thead th {\n",
       "        text-align: right;\n",
       "    }\n",
       "</style>\n",
       "<table border=\"1\" class=\"dataframe\">\n",
       "  <thead>\n",
       "    <tr style=\"text-align: right;\">\n",
       "      <th></th>\n",
       "      <th>subject</th>\n",
       "      <th>group</th>\n",
       "      <th>gender</th>\n",
       "      <th>age</th>\n",
       "      <th>education</th>\n",
       "    </tr>\n",
       "  </thead>\n",
       "  <tbody>\n",
       "    <tr>\n",
       "      <th>0</th>\n",
       "      <td>1</td>\n",
       "      <td>0</td>\n",
       "      <td>M</td>\n",
       "      <td>44</td>\n",
       "      <td>16.0</td>\n",
       "    </tr>\n",
       "    <tr>\n",
       "      <th>1</th>\n",
       "      <td>2</td>\n",
       "      <td>0</td>\n",
       "      <td>M</td>\n",
       "      <td>39</td>\n",
       "      <td>17.0</td>\n",
       "    </tr>\n",
       "    <tr>\n",
       "      <th>2</th>\n",
       "      <td>3</td>\n",
       "      <td>0</td>\n",
       "      <td>M</td>\n",
       "      <td>53</td>\n",
       "      <td>18.0</td>\n",
       "    </tr>\n",
       "    <tr>\n",
       "      <th>3</th>\n",
       "      <td>4</td>\n",
       "      <td>0</td>\n",
       "      <td>M</td>\n",
       "      <td>52</td>\n",
       "      <td>15.0</td>\n",
       "    </tr>\n",
       "    <tr>\n",
       "      <th>4</th>\n",
       "      <td>5</td>\n",
       "      <td>0</td>\n",
       "      <td>M</td>\n",
       "      <td>41</td>\n",
       "      <td>16.0</td>\n",
       "    </tr>\n",
       "  </tbody>\n",
       "</table>\n",
       "</div>"
      ],
      "text/plain": [
       "   subject   group  gender   age   education\n",
       "0        1       0       M    44        16.0\n",
       "1        2       0       M    39        17.0\n",
       "2        3       0       M    53        18.0\n",
       "3        4       0       M    52        15.0\n",
       "4        5       0       M    41        16.0"
      ]
     },
     "execution_count": 6,
     "metadata": {},
     "output_type": "execute_result"
    }
   ],
   "source": [
    "dem = pd.read_csv('demographic.csv')\n",
    "dem.head()"
   ]
  },
  {
   "cell_type": "code",
   "execution_count": 7,
   "id": "ce89f3c6",
   "metadata": {},
   "outputs": [],
   "source": [
    "ERP = df[df['condition']==1]"
   ]
  },
  {
   "cell_type": "markdown",
   "id": "a375ab26",
   "metadata": {},
   "source": [
    "## Replicate plots"
   ]
  },
  {
   "cell_type": "code",
   "execution_count": 8,
   "id": "46c6b70f",
   "metadata": {},
   "outputs": [
    {
     "data": {
      "text/html": [
       "<div>\n",
       "<style scoped>\n",
       "    .dataframe tbody tr th:only-of-type {\n",
       "        vertical-align: middle;\n",
       "    }\n",
       "\n",
       "    .dataframe tbody tr th {\n",
       "        vertical-align: top;\n",
       "    }\n",
       "\n",
       "    .dataframe thead th {\n",
       "        text-align: right;\n",
       "    }\n",
       "</style>\n",
       "<table border=\"1\" class=\"dataframe\">\n",
       "  <thead>\n",
       "    <tr style=\"text-align: right;\">\n",
       "      <th></th>\n",
       "      <th>subject</th>\n",
       "      <th>condition</th>\n",
       "      <th>Fz</th>\n",
       "      <th>FCz</th>\n",
       "      <th>Cz</th>\n",
       "      <th>FC3</th>\n",
       "      <th>FC4</th>\n",
       "      <th>C3</th>\n",
       "      <th>C4</th>\n",
       "      <th>CP3</th>\n",
       "      <th>CP4</th>\n",
       "      <th>time_ms</th>\n",
       "      <th>group</th>\n",
       "      <th>gender</th>\n",
       "      <th>age</th>\n",
       "      <th>education</th>\n",
       "    </tr>\n",
       "  </thead>\n",
       "  <tbody>\n",
       "    <tr>\n",
       "      <th>0</th>\n",
       "      <td>1</td>\n",
       "      <td>1</td>\n",
       "      <td>5.533701</td>\n",
       "      <td>5.726507</td>\n",
       "      <td>5.469535</td>\n",
       "      <td>5.386723</td>\n",
       "      <td>4.588875</td>\n",
       "      <td>6.560092</td>\n",
       "      <td>4.542811</td>\n",
       "      <td>5.397492</td>\n",
       "      <td>5.103695</td>\n",
       "      <td>-1500.0000</td>\n",
       "      <td>0</td>\n",
       "      <td>M</td>\n",
       "      <td>44</td>\n",
       "      <td>16.0</td>\n",
       "    </tr>\n",
       "    <tr>\n",
       "      <th>1</th>\n",
       "      <td>1</td>\n",
       "      <td>1</td>\n",
       "      <td>5.651489</td>\n",
       "      <td>5.837326</td>\n",
       "      <td>5.773131</td>\n",
       "      <td>5.627975</td>\n",
       "      <td>4.822217</td>\n",
       "      <td>6.739976</td>\n",
       "      <td>4.811770</td>\n",
       "      <td>5.541357</td>\n",
       "      <td>5.379273</td>\n",
       "      <td>-1499.0234</td>\n",
       "      <td>0</td>\n",
       "      <td>M</td>\n",
       "      <td>44</td>\n",
       "      <td>16.0</td>\n",
       "    </tr>\n",
       "    <tr>\n",
       "      <th>2</th>\n",
       "      <td>1</td>\n",
       "      <td>1</td>\n",
       "      <td>5.717580</td>\n",
       "      <td>5.932924</td>\n",
       "      <td>5.948466</td>\n",
       "      <td>5.826460</td>\n",
       "      <td>4.979647</td>\n",
       "      <td>7.026199</td>\n",
       "      <td>5.053779</td>\n",
       "      <td>5.634972</td>\n",
       "      <td>5.600504</td>\n",
       "      <td>-1498.0469</td>\n",
       "      <td>0</td>\n",
       "      <td>M</td>\n",
       "      <td>44</td>\n",
       "      <td>16.0</td>\n",
       "    </tr>\n",
       "    <tr>\n",
       "      <th>3</th>\n",
       "      <td>1</td>\n",
       "      <td>1</td>\n",
       "      <td>5.703267</td>\n",
       "      <td>5.968103</td>\n",
       "      <td>5.851512</td>\n",
       "      <td>5.812192</td>\n",
       "      <td>4.992899</td>\n",
       "      <td>6.940671</td>\n",
       "      <td>5.106650</td>\n",
       "      <td>5.543577</td>\n",
       "      <td>5.589775</td>\n",
       "      <td>-1497.0703</td>\n",
       "      <td>0</td>\n",
       "      <td>M</td>\n",
       "      <td>44</td>\n",
       "      <td>16.0</td>\n",
       "    </tr>\n",
       "    <tr>\n",
       "      <th>4</th>\n",
       "      <td>1</td>\n",
       "      <td>1</td>\n",
       "      <td>5.571578</td>\n",
       "      <td>5.917541</td>\n",
       "      <td>5.812808</td>\n",
       "      <td>5.744715</td>\n",
       "      <td>4.963338</td>\n",
       "      <td>6.726491</td>\n",
       "      <td>5.158073</td>\n",
       "      <td>5.454069</td>\n",
       "      <td>5.614092</td>\n",
       "      <td>-1496.0938</td>\n",
       "      <td>0</td>\n",
       "      <td>M</td>\n",
       "      <td>44</td>\n",
       "      <td>16.0</td>\n",
       "    </tr>\n",
       "    <tr>\n",
       "      <th>...</th>\n",
       "      <td>...</td>\n",
       "      <td>...</td>\n",
       "      <td>...</td>\n",
       "      <td>...</td>\n",
       "      <td>...</td>\n",
       "      <td>...</td>\n",
       "      <td>...</td>\n",
       "      <td>...</td>\n",
       "      <td>...</td>\n",
       "      <td>...</td>\n",
       "      <td>...</td>\n",
       "      <td>...</td>\n",
       "      <td>...</td>\n",
       "      <td>...</td>\n",
       "      <td>...</td>\n",
       "      <td>...</td>\n",
       "    </tr>\n",
       "    <tr>\n",
       "      <th>746491</th>\n",
       "      <td>81</td>\n",
       "      <td>3</td>\n",
       "      <td>-0.401267</td>\n",
       "      <td>0.041014</td>\n",
       "      <td>-0.352556</td>\n",
       "      <td>0.712530</td>\n",
       "      <td>-0.427019</td>\n",
       "      <td>0.479170</td>\n",
       "      <td>1.041864</td>\n",
       "      <td>0.645761</td>\n",
       "      <td>-0.085649</td>\n",
       "      <td>1495.1172</td>\n",
       "      <td>1</td>\n",
       "      <td>M</td>\n",
       "      <td>56</td>\n",
       "      <td>13.0</td>\n",
       "    </tr>\n",
       "    <tr>\n",
       "      <th>746492</th>\n",
       "      <td>81</td>\n",
       "      <td>3</td>\n",
       "      <td>-0.440294</td>\n",
       "      <td>0.093863</td>\n",
       "      <td>-0.422151</td>\n",
       "      <td>0.792209</td>\n",
       "      <td>-0.469230</td>\n",
       "      <td>0.486767</td>\n",
       "      <td>0.955658</td>\n",
       "      <td>0.601938</td>\n",
       "      <td>-0.264824</td>\n",
       "      <td>1496.0938</td>\n",
       "      <td>1</td>\n",
       "      <td>M</td>\n",
       "      <td>56</td>\n",
       "      <td>13.0</td>\n",
       "    </tr>\n",
       "    <tr>\n",
       "      <th>746493</th>\n",
       "      <td>81</td>\n",
       "      <td>3</td>\n",
       "      <td>-0.466162</td>\n",
       "      <td>0.083799</td>\n",
       "      <td>-0.485091</td>\n",
       "      <td>0.799034</td>\n",
       "      <td>-0.466002</td>\n",
       "      <td>0.516740</td>\n",
       "      <td>0.972635</td>\n",
       "      <td>0.612470</td>\n",
       "      <td>-0.463196</td>\n",
       "      <td>1497.0703</td>\n",
       "      <td>1</td>\n",
       "      <td>M</td>\n",
       "      <td>56</td>\n",
       "      <td>13.0</td>\n",
       "    </tr>\n",
       "    <tr>\n",
       "      <th>746494</th>\n",
       "      <td>81</td>\n",
       "      <td>3</td>\n",
       "      <td>-0.472620</td>\n",
       "      <td>0.003017</td>\n",
       "      <td>-0.465663</td>\n",
       "      <td>0.675452</td>\n",
       "      <td>-0.408777</td>\n",
       "      <td>0.558901</td>\n",
       "      <td>0.943028</td>\n",
       "      <td>0.635287</td>\n",
       "      <td>-0.656748</td>\n",
       "      <td>1498.0469</td>\n",
       "      <td>1</td>\n",
       "      <td>M</td>\n",
       "      <td>56</td>\n",
       "      <td>13.0</td>\n",
       "    </tr>\n",
       "    <tr>\n",
       "      <th>746495</th>\n",
       "      <td>81</td>\n",
       "      <td>3</td>\n",
       "      <td>-0.496193</td>\n",
       "      <td>0.044210</td>\n",
       "      <td>-0.503998</td>\n",
       "      <td>0.711932</td>\n",
       "      <td>-0.426605</td>\n",
       "      <td>0.672328</td>\n",
       "      <td>0.805889</td>\n",
       "      <td>0.602888</td>\n",
       "      <td>-0.719264</td>\n",
       "      <td>1499.0234</td>\n",
       "      <td>1</td>\n",
       "      <td>M</td>\n",
       "      <td>56</td>\n",
       "      <td>13.0</td>\n",
       "    </tr>\n",
       "  </tbody>\n",
       "</table>\n",
       "<p>746496 rows × 16 columns</p>\n",
       "</div>"
      ],
      "text/plain": [
       "        subject  condition        Fz       FCz        Cz       FC3       FC4  \\\n",
       "0             1          1  5.533701  5.726507  5.469535  5.386723  4.588875   \n",
       "1             1          1  5.651489  5.837326  5.773131  5.627975  4.822217   \n",
       "2             1          1  5.717580  5.932924  5.948466  5.826460  4.979647   \n",
       "3             1          1  5.703267  5.968103  5.851512  5.812192  4.992899   \n",
       "4             1          1  5.571578  5.917541  5.812808  5.744715  4.963338   \n",
       "...         ...        ...       ...       ...       ...       ...       ...   \n",
       "746491       81          3 -0.401267  0.041014 -0.352556  0.712530 -0.427019   \n",
       "746492       81          3 -0.440294  0.093863 -0.422151  0.792209 -0.469230   \n",
       "746493       81          3 -0.466162  0.083799 -0.485091  0.799034 -0.466002   \n",
       "746494       81          3 -0.472620  0.003017 -0.465663  0.675452 -0.408777   \n",
       "746495       81          3 -0.496193  0.044210 -0.503998  0.711932 -0.426605   \n",
       "\n",
       "              C3        C4       CP3       CP4    time_ms   group  gender  \\\n",
       "0       6.560092  4.542811  5.397492  5.103695 -1500.0000       0       M   \n",
       "1       6.739976  4.811770  5.541357  5.379273 -1499.0234       0       M   \n",
       "2       7.026199  5.053779  5.634972  5.600504 -1498.0469       0       M   \n",
       "3       6.940671  5.106650  5.543577  5.589775 -1497.0703       0       M   \n",
       "4       6.726491  5.158073  5.454069  5.614092 -1496.0938       0       M   \n",
       "...          ...       ...       ...       ...        ...     ...     ...   \n",
       "746491  0.479170  1.041864  0.645761 -0.085649  1495.1172       1       M   \n",
       "746492  0.486767  0.955658  0.601938 -0.264824  1496.0938       1       M   \n",
       "746493  0.516740  0.972635  0.612470 -0.463196  1497.0703       1       M   \n",
       "746494  0.558901  0.943028  0.635287 -0.656748  1498.0469       1       M   \n",
       "746495  0.672328  0.805889  0.602888 -0.719264  1499.0234       1       M   \n",
       "\n",
       "         age   education  \n",
       "0         44        16.0  \n",
       "1         44        16.0  \n",
       "2         44        16.0  \n",
       "3         44        16.0  \n",
       "4         44        16.0  \n",
       "...      ...         ...  \n",
       "746491    56        13.0  \n",
       "746492    56        13.0  \n",
       "746493    56        13.0  \n",
       "746494    56        13.0  \n",
       "746495    56        13.0  \n",
       "\n",
       "[746496 rows x 16 columns]"
      ]
     },
     "execution_count": 8,
     "metadata": {},
     "output_type": "execute_result"
    }
   ],
   "source": [
    "ERP = df.merge(dem, on='subject')\n",
    "ERP"
   ]
  },
  {
   "cell_type": "code",
   "execution_count": 9,
   "id": "531dba70",
   "metadata": {},
   "outputs": [],
   "source": [
    "ERP = ERP.iloc[:, 0:-3]\n",
    "ERP = ERP.drop(['FC3','FC4','C3','C4', 'CP3', 'CP4'], axis=1)\n",
    "ERP[' group'] = ERP[' group'].apply(lambda x: 'HC' if x==0 else 'SZ')"
   ]
  },
  {
   "cell_type": "code",
   "execution_count": 10,
   "id": "bc0657b7",
   "metadata": {},
   "outputs": [],
   "source": [
    "ERP = ERP[(ERP.time_ms >= -100) & (ERP.time_ms <= 300)].groupby([' group', 'condition','time_ms']).mean()"
   ]
  },
  {
   "cell_type": "code",
   "execution_count": 11,
   "id": "d5d29f23",
   "metadata": {},
   "outputs": [
    {
     "data": {
      "text/html": [
       "<div>\n",
       "<style scoped>\n",
       "    .dataframe tbody tr th:only-of-type {\n",
       "        vertical-align: middle;\n",
       "    }\n",
       "\n",
       "    .dataframe tbody tr th {\n",
       "        vertical-align: top;\n",
       "    }\n",
       "\n",
       "    .dataframe thead th {\n",
       "        text-align: right;\n",
       "    }\n",
       "</style>\n",
       "<table border=\"1\" class=\"dataframe\">\n",
       "  <thead>\n",
       "    <tr style=\"text-align: right;\">\n",
       "      <th></th>\n",
       "      <th></th>\n",
       "      <th></th>\n",
       "      <th>subject</th>\n",
       "      <th>Fz</th>\n",
       "      <th>FCz</th>\n",
       "      <th>Cz</th>\n",
       "    </tr>\n",
       "    <tr>\n",
       "      <th>group</th>\n",
       "      <th>condition</th>\n",
       "      <th>time_ms</th>\n",
       "      <th></th>\n",
       "      <th></th>\n",
       "      <th></th>\n",
       "      <th></th>\n",
       "    </tr>\n",
       "  </thead>\n",
       "  <tbody>\n",
       "    <tr>\n",
       "      <th rowspan=\"5\" valign=\"top\">HC</th>\n",
       "      <th rowspan=\"5\" valign=\"top\">1</th>\n",
       "      <th>-99.6094</th>\n",
       "      <td>25.00000</td>\n",
       "      <td>0.455273</td>\n",
       "      <td>0.431357</td>\n",
       "      <td>0.139358</td>\n",
       "    </tr>\n",
       "    <tr>\n",
       "      <th>-98.6328</th>\n",
       "      <td>25.00000</td>\n",
       "      <td>0.435204</td>\n",
       "      <td>0.423137</td>\n",
       "      <td>0.108364</td>\n",
       "    </tr>\n",
       "    <tr>\n",
       "      <th>-97.6563</th>\n",
       "      <td>25.00000</td>\n",
       "      <td>0.466328</td>\n",
       "      <td>0.454093</td>\n",
       "      <td>0.132008</td>\n",
       "    </tr>\n",
       "    <tr>\n",
       "      <th>-96.6797</th>\n",
       "      <td>25.00000</td>\n",
       "      <td>0.466787</td>\n",
       "      <td>0.438854</td>\n",
       "      <td>0.150605</td>\n",
       "    </tr>\n",
       "    <tr>\n",
       "      <th>-95.7031</th>\n",
       "      <td>25.00000</td>\n",
       "      <td>0.456643</td>\n",
       "      <td>0.423483</td>\n",
       "      <td>0.142539</td>\n",
       "    </tr>\n",
       "    <tr>\n",
       "      <th>...</th>\n",
       "      <th>...</th>\n",
       "      <th>...</th>\n",
       "      <td>...</td>\n",
       "      <td>...</td>\n",
       "      <td>...</td>\n",
       "      <td>...</td>\n",
       "    </tr>\n",
       "    <tr>\n",
       "      <th rowspan=\"5\" valign=\"top\">SZ</th>\n",
       "      <th rowspan=\"5\" valign=\"top\">3</th>\n",
       "      <th>295.8984</th>\n",
       "      <td>51.44898</td>\n",
       "      <td>1.297023</td>\n",
       "      <td>1.562212</td>\n",
       "      <td>1.799549</td>\n",
       "    </tr>\n",
       "    <tr>\n",
       "      <th>296.8750</th>\n",
       "      <td>51.44898</td>\n",
       "      <td>1.279030</td>\n",
       "      <td>1.527202</td>\n",
       "      <td>1.771924</td>\n",
       "    </tr>\n",
       "    <tr>\n",
       "      <th>297.8516</th>\n",
       "      <td>51.44898</td>\n",
       "      <td>1.314048</td>\n",
       "      <td>1.552417</td>\n",
       "      <td>1.773222</td>\n",
       "    </tr>\n",
       "    <tr>\n",
       "      <th>298.8281</th>\n",
       "      <td>51.44898</td>\n",
       "      <td>1.340739</td>\n",
       "      <td>1.563762</td>\n",
       "      <td>1.774739</td>\n",
       "    </tr>\n",
       "    <tr>\n",
       "      <th>299.8047</th>\n",
       "      <td>51.44898</td>\n",
       "      <td>1.248507</td>\n",
       "      <td>1.468130</td>\n",
       "      <td>1.693612</td>\n",
       "    </tr>\n",
       "  </tbody>\n",
       "</table>\n",
       "<p>2460 rows × 4 columns</p>\n",
       "</div>"
      ],
      "text/plain": [
       "                             subject        Fz       FCz        Cz\n",
       " group condition time_ms                                          \n",
       "HC     1         -99.6094   25.00000  0.455273  0.431357  0.139358\n",
       "                 -98.6328   25.00000  0.435204  0.423137  0.108364\n",
       "                 -97.6563   25.00000  0.466328  0.454093  0.132008\n",
       "                 -96.6797   25.00000  0.466787  0.438854  0.150605\n",
       "                 -95.7031   25.00000  0.456643  0.423483  0.142539\n",
       "...                              ...       ...       ...       ...\n",
       "SZ     3          295.8984  51.44898  1.297023  1.562212  1.799549\n",
       "                  296.8750  51.44898  1.279030  1.527202  1.771924\n",
       "                  297.8516  51.44898  1.314048  1.552417  1.773222\n",
       "                  298.8281  51.44898  1.340739  1.563762  1.774739\n",
       "                  299.8047  51.44898  1.248507  1.468130  1.693612\n",
       "\n",
       "[2460 rows x 4 columns]"
      ]
     },
     "execution_count": 11,
     "metadata": {},
     "output_type": "execute_result"
    }
   ],
   "source": [
    "ERP"
   ]
  },
  {
   "cell_type": "code",
   "execution_count": 12,
   "id": "9ffc5fe1",
   "metadata": {},
   "outputs": [
    {
     "data": {
      "text/html": [
       "<div>\n",
       "<style scoped>\n",
       "    .dataframe tbody tr th:only-of-type {\n",
       "        vertical-align: middle;\n",
       "    }\n",
       "\n",
       "    .dataframe tbody tr th {\n",
       "        vertical-align: top;\n",
       "    }\n",
       "\n",
       "    .dataframe thead th {\n",
       "        text-align: right;\n",
       "    }\n",
       "</style>\n",
       "<table border=\"1\" class=\"dataframe\">\n",
       "  <thead>\n",
       "    <tr style=\"text-align: right;\">\n",
       "      <th></th>\n",
       "      <th></th>\n",
       "      <th></th>\n",
       "      <th>subject</th>\n",
       "      <th>Fz</th>\n",
       "      <th>FCz</th>\n",
       "      <th>Cz</th>\n",
       "    </tr>\n",
       "    <tr>\n",
       "      <th>group</th>\n",
       "      <th>condition</th>\n",
       "      <th>time_ms</th>\n",
       "      <th></th>\n",
       "      <th></th>\n",
       "      <th></th>\n",
       "      <th></th>\n",
       "    </tr>\n",
       "  </thead>\n",
       "  <tbody>\n",
       "    <tr>\n",
       "      <th rowspan=\"3\" valign=\"top\">HC</th>\n",
       "      <th rowspan=\"3\" valign=\"top\">1</th>\n",
       "      <th>-99.6094</th>\n",
       "      <td>25.0</td>\n",
       "      <td>0.455273</td>\n",
       "      <td>0.431357</td>\n",
       "      <td>0.139358</td>\n",
       "    </tr>\n",
       "    <tr>\n",
       "      <th>-98.6328</th>\n",
       "      <td>25.0</td>\n",
       "      <td>0.435204</td>\n",
       "      <td>0.423137</td>\n",
       "      <td>0.108364</td>\n",
       "    </tr>\n",
       "    <tr>\n",
       "      <th>-97.6563</th>\n",
       "      <td>25.0</td>\n",
       "      <td>0.466328</td>\n",
       "      <td>0.454093</td>\n",
       "      <td>0.132008</td>\n",
       "    </tr>\n",
       "  </tbody>\n",
       "</table>\n",
       "</div>"
      ],
      "text/plain": [
       "                           subject        Fz       FCz        Cz\n",
       " group condition time_ms                                        \n",
       "HC     1         -99.6094     25.0  0.455273  0.431357  0.139358\n",
       "                 -98.6328     25.0  0.435204  0.423137  0.108364\n",
       "                 -97.6563     25.0  0.466328  0.454093  0.132008"
      ]
     },
     "metadata": {},
     "output_type": "display_data"
    }
   ],
   "source": [
    "display(ERP[:3])"
   ]
  },
  {
   "cell_type": "code",
   "execution_count": 13,
   "id": "93018a33",
   "metadata": {},
   "outputs": [
    {
     "data": {
      "text/html": [
       "<div>\n",
       "<style scoped>\n",
       "    .dataframe tbody tr th:only-of-type {\n",
       "        vertical-align: middle;\n",
       "    }\n",
       "\n",
       "    .dataframe tbody tr th {\n",
       "        vertical-align: top;\n",
       "    }\n",
       "\n",
       "    .dataframe thead th {\n",
       "        text-align: right;\n",
       "    }\n",
       "</style>\n",
       "<table border=\"1\" class=\"dataframe\">\n",
       "  <thead>\n",
       "    <tr style=\"text-align: right;\">\n",
       "      <th></th>\n",
       "      <th></th>\n",
       "      <th></th>\n",
       "      <th>subject</th>\n",
       "      <th>Fz</th>\n",
       "      <th>FCz</th>\n",
       "      <th>Cz</th>\n",
       "    </tr>\n",
       "    <tr>\n",
       "      <th>group</th>\n",
       "      <th>condition</th>\n",
       "      <th>time_ms</th>\n",
       "      <th></th>\n",
       "      <th></th>\n",
       "      <th></th>\n",
       "      <th></th>\n",
       "    </tr>\n",
       "  </thead>\n",
       "  <tbody>\n",
       "    <tr>\n",
       "      <th rowspan=\"3\" valign=\"top\">HC</th>\n",
       "      <th rowspan=\"3\" valign=\"top\">1</th>\n",
       "      <th>-99.6094</th>\n",
       "      <td>25.0</td>\n",
       "      <td>-0.106914</td>\n",
       "      <td>-0.161320</td>\n",
       "      <td>-0.120676</td>\n",
       "    </tr>\n",
       "    <tr>\n",
       "      <th>-98.6328</th>\n",
       "      <td>25.0</td>\n",
       "      <td>-0.135403</td>\n",
       "      <td>-0.165145</td>\n",
       "      <td>-0.168089</td>\n",
       "    </tr>\n",
       "    <tr>\n",
       "      <th>-97.6563</th>\n",
       "      <td>25.0</td>\n",
       "      <td>-0.083589</td>\n",
       "      <td>-0.105603</td>\n",
       "      <td>-0.120451</td>\n",
       "    </tr>\n",
       "  </tbody>\n",
       "</table>\n",
       "</div>"
      ],
      "text/plain": [
       "                           subject        Fz       FCz        Cz\n",
       " group condition time_ms                                        \n",
       "HC     1         -99.6094     25.0 -0.106914 -0.161320 -0.120676\n",
       "                 -98.6328     25.0 -0.135403 -0.165145 -0.168089\n",
       "                 -97.6563     25.0 -0.083589 -0.105603 -0.120451"
      ]
     },
     "metadata": {},
     "output_type": "display_data"
    }
   ],
   "source": [
    "## prepare data \n",
    "ERP.loc[(slice(None),1), ['Fz', 'FCz', 'Cz']] = ERP.loc[(slice(None),1), ['Fz', 'FCz', 'Cz']] - ERP.loc[(slice(None),3), ['Fz', 'FCz', 'Cz']].values\n",
    "ERP = ERP.drop(index=3, level=1)\n",
    "ERP.reset_index()\n",
    "display(ERP[:3])"
   ]
  },
  {
   "cell_type": "code",
   "execution_count": 14,
   "id": "86141395",
   "metadata": {},
   "outputs": [
    {
     "data": {
      "text/html": [
       "<div>\n",
       "<style scoped>\n",
       "    .dataframe tbody tr th:only-of-type {\n",
       "        vertical-align: middle;\n",
       "    }\n",
       "\n",
       "    .dataframe tbody tr th {\n",
       "        vertical-align: top;\n",
       "    }\n",
       "\n",
       "    .dataframe thead th {\n",
       "        text-align: right;\n",
       "    }\n",
       "</style>\n",
       "<table border=\"1\" class=\"dataframe\">\n",
       "  <thead>\n",
       "    <tr style=\"text-align: right;\">\n",
       "      <th></th>\n",
       "      <th>group</th>\n",
       "      <th>condition</th>\n",
       "      <th>time_ms</th>\n",
       "      <th>variable</th>\n",
       "      <th>value</th>\n",
       "    </tr>\n",
       "  </thead>\n",
       "  <tbody>\n",
       "    <tr>\n",
       "      <th>0</th>\n",
       "      <td>HC</td>\n",
       "      <td>1</td>\n",
       "      <td>-99.6094</td>\n",
       "      <td>Fz</td>\n",
       "      <td>-0.106914</td>\n",
       "    </tr>\n",
       "    <tr>\n",
       "      <th>1</th>\n",
       "      <td>HC</td>\n",
       "      <td>1</td>\n",
       "      <td>-98.6328</td>\n",
       "      <td>Fz</td>\n",
       "      <td>-0.135403</td>\n",
       "    </tr>\n",
       "    <tr>\n",
       "      <th>2</th>\n",
       "      <td>HC</td>\n",
       "      <td>1</td>\n",
       "      <td>-97.6563</td>\n",
       "      <td>Fz</td>\n",
       "      <td>-0.083589</td>\n",
       "    </tr>\n",
       "    <tr>\n",
       "      <th>3</th>\n",
       "      <td>HC</td>\n",
       "      <td>1</td>\n",
       "      <td>-96.6797</td>\n",
       "      <td>Fz</td>\n",
       "      <td>-0.056245</td>\n",
       "    </tr>\n",
       "    <tr>\n",
       "      <th>4</th>\n",
       "      <td>HC</td>\n",
       "      <td>1</td>\n",
       "      <td>-95.7031</td>\n",
       "      <td>Fz</td>\n",
       "      <td>-0.012324</td>\n",
       "    </tr>\n",
       "    <tr>\n",
       "      <th>...</th>\n",
       "      <td>...</td>\n",
       "      <td>...</td>\n",
       "      <td>...</td>\n",
       "      <td>...</td>\n",
       "      <td>...</td>\n",
       "    </tr>\n",
       "    <tr>\n",
       "      <th>4915</th>\n",
       "      <td>SZ</td>\n",
       "      <td>2</td>\n",
       "      <td>295.8984</td>\n",
       "      <td>Cz</td>\n",
       "      <td>0.003643</td>\n",
       "    </tr>\n",
       "    <tr>\n",
       "      <th>4916</th>\n",
       "      <td>SZ</td>\n",
       "      <td>2</td>\n",
       "      <td>296.8750</td>\n",
       "      <td>Cz</td>\n",
       "      <td>-0.008686</td>\n",
       "    </tr>\n",
       "    <tr>\n",
       "      <th>4917</th>\n",
       "      <td>SZ</td>\n",
       "      <td>2</td>\n",
       "      <td>297.8516</td>\n",
       "      <td>Cz</td>\n",
       "      <td>0.032826</td>\n",
       "    </tr>\n",
       "    <tr>\n",
       "      <th>4918</th>\n",
       "      <td>SZ</td>\n",
       "      <td>2</td>\n",
       "      <td>298.8281</td>\n",
       "      <td>Cz</td>\n",
       "      <td>0.012877</td>\n",
       "    </tr>\n",
       "    <tr>\n",
       "      <th>4919</th>\n",
       "      <td>SZ</td>\n",
       "      <td>2</td>\n",
       "      <td>299.8047</td>\n",
       "      <td>Cz</td>\n",
       "      <td>0.000480</td>\n",
       "    </tr>\n",
       "  </tbody>\n",
       "</table>\n",
       "<p>4920 rows × 5 columns</p>\n",
       "</div>"
      ],
      "text/plain": [
       "      group  condition   time_ms variable     value\n",
       "0        HC          1  -99.6094       Fz -0.106914\n",
       "1        HC          1  -98.6328       Fz -0.135403\n",
       "2        HC          1  -97.6563       Fz -0.083589\n",
       "3        HC          1  -96.6797       Fz -0.056245\n",
       "4        HC          1  -95.7031       Fz -0.012324\n",
       "...     ...        ...       ...      ...       ...\n",
       "4915     SZ          2  295.8984       Cz  0.003643\n",
       "4916     SZ          2  296.8750       Cz -0.008686\n",
       "4917     SZ          2  297.8516       Cz  0.032826\n",
       "4918     SZ          2  298.8281       Cz  0.012877\n",
       "4919     SZ          2  299.8047       Cz  0.000480\n",
       "\n",
       "[4920 rows x 5 columns]"
      ]
     },
     "execution_count": 14,
     "metadata": {},
     "output_type": "execute_result"
    }
   ],
   "source": [
    "ERP=ERP.reset_index()\n",
    "ERP = pd.melt(ERP, id_vars=[' group', 'condition', 'time_ms'], value_vars=['Fz', 'FCz', 'Cz'])\n",
    "ERP"
   ]
  },
  {
   "cell_type": "code",
   "execution_count": 15,
   "id": "3a59187b",
   "metadata": {},
   "outputs": [
    {
     "data": {
      "text/html": [
       "<div>\n",
       "<style scoped>\n",
       "    .dataframe tbody tr th:only-of-type {\n",
       "        vertical-align: middle;\n",
       "    }\n",
       "\n",
       "    .dataframe tbody tr th {\n",
       "        vertical-align: top;\n",
       "    }\n",
       "\n",
       "    .dataframe thead th {\n",
       "        text-align: right;\n",
       "    }\n",
       "</style>\n",
       "<table border=\"1\" class=\"dataframe\">\n",
       "  <thead>\n",
       "    <tr style=\"text-align: right;\">\n",
       "      <th></th>\n",
       "      <th>group</th>\n",
       "      <th>condition</th>\n",
       "      <th>time_ms</th>\n",
       "      <th>variable</th>\n",
       "      <th>value</th>\n",
       "    </tr>\n",
       "  </thead>\n",
       "  <tbody>\n",
       "    <tr>\n",
       "      <th>0</th>\n",
       "      <td>HC</td>\n",
       "      <td>buttontone</td>\n",
       "      <td>-99.6094</td>\n",
       "      <td>Fz</td>\n",
       "      <td>-0.106914</td>\n",
       "    </tr>\n",
       "    <tr>\n",
       "      <th>1</th>\n",
       "      <td>HC</td>\n",
       "      <td>buttontone</td>\n",
       "      <td>-98.6328</td>\n",
       "      <td>Fz</td>\n",
       "      <td>-0.135403</td>\n",
       "    </tr>\n",
       "    <tr>\n",
       "      <th>2</th>\n",
       "      <td>HC</td>\n",
       "      <td>buttontone</td>\n",
       "      <td>-97.6563</td>\n",
       "      <td>Fz</td>\n",
       "      <td>-0.083589</td>\n",
       "    </tr>\n",
       "    <tr>\n",
       "      <th>3</th>\n",
       "      <td>HC</td>\n",
       "      <td>buttontone</td>\n",
       "      <td>-96.6797</td>\n",
       "      <td>Fz</td>\n",
       "      <td>-0.056245</td>\n",
       "    </tr>\n",
       "    <tr>\n",
       "      <th>4</th>\n",
       "      <td>HC</td>\n",
       "      <td>buttontone</td>\n",
       "      <td>-95.7031</td>\n",
       "      <td>Fz</td>\n",
       "      <td>-0.012324</td>\n",
       "    </tr>\n",
       "    <tr>\n",
       "      <th>...</th>\n",
       "      <td>...</td>\n",
       "      <td>...</td>\n",
       "      <td>...</td>\n",
       "      <td>...</td>\n",
       "      <td>...</td>\n",
       "    </tr>\n",
       "    <tr>\n",
       "      <th>4915</th>\n",
       "      <td>SZ</td>\n",
       "      <td>playtone</td>\n",
       "      <td>295.8984</td>\n",
       "      <td>Cz</td>\n",
       "      <td>0.003643</td>\n",
       "    </tr>\n",
       "    <tr>\n",
       "      <th>4916</th>\n",
       "      <td>SZ</td>\n",
       "      <td>playtone</td>\n",
       "      <td>296.8750</td>\n",
       "      <td>Cz</td>\n",
       "      <td>-0.008686</td>\n",
       "    </tr>\n",
       "    <tr>\n",
       "      <th>4917</th>\n",
       "      <td>SZ</td>\n",
       "      <td>playtone</td>\n",
       "      <td>297.8516</td>\n",
       "      <td>Cz</td>\n",
       "      <td>0.032826</td>\n",
       "    </tr>\n",
       "    <tr>\n",
       "      <th>4918</th>\n",
       "      <td>SZ</td>\n",
       "      <td>playtone</td>\n",
       "      <td>298.8281</td>\n",
       "      <td>Cz</td>\n",
       "      <td>0.012877</td>\n",
       "    </tr>\n",
       "    <tr>\n",
       "      <th>4919</th>\n",
       "      <td>SZ</td>\n",
       "      <td>playtone</td>\n",
       "      <td>299.8047</td>\n",
       "      <td>Cz</td>\n",
       "      <td>0.000480</td>\n",
       "    </tr>\n",
       "  </tbody>\n",
       "</table>\n",
       "<p>4920 rows × 5 columns</p>\n",
       "</div>"
      ],
      "text/plain": [
       "      group   condition   time_ms variable     value\n",
       "0        HC  buttontone  -99.6094       Fz -0.106914\n",
       "1        HC  buttontone  -98.6328       Fz -0.135403\n",
       "2        HC  buttontone  -97.6563       Fz -0.083589\n",
       "3        HC  buttontone  -96.6797       Fz -0.056245\n",
       "4        HC  buttontone  -95.7031       Fz -0.012324\n",
       "...     ...         ...       ...      ...       ...\n",
       "4915     SZ    playtone  295.8984       Cz  0.003643\n",
       "4916     SZ    playtone  296.8750       Cz -0.008686\n",
       "4917     SZ    playtone  297.8516       Cz  0.032826\n",
       "4918     SZ    playtone  298.8281       Cz  0.012877\n",
       "4919     SZ    playtone  299.8047       Cz  0.000480\n",
       "\n",
       "[4920 rows x 5 columns]"
      ]
     },
     "execution_count": 15,
     "metadata": {},
     "output_type": "execute_result"
    }
   ],
   "source": [
    "ERP['condition'] = ERP['condition'].apply(lambda x: 'playtone' if x==2 else 'buttontone')\n",
    "ERP"
   ]
  },
  {
   "cell_type": "code",
   "execution_count": 16,
   "id": "802bb7a9",
   "metadata": {},
   "outputs": [
    {
     "data": {
      "text/html": [
       "<div>\n",
       "<style scoped>\n",
       "    .dataframe tbody tr th:only-of-type {\n",
       "        vertical-align: middle;\n",
       "    }\n",
       "\n",
       "    .dataframe tbody tr th {\n",
       "        vertical-align: top;\n",
       "    }\n",
       "\n",
       "    .dataframe thead th {\n",
       "        text-align: right;\n",
       "    }\n",
       "</style>\n",
       "<table border=\"1\" class=\"dataframe\">\n",
       "  <thead>\n",
       "    <tr style=\"text-align: right;\">\n",
       "      <th></th>\n",
       "      <th>group</th>\n",
       "      <th>condition</th>\n",
       "      <th>time_ms</th>\n",
       "      <th>variable</th>\n",
       "      <th>value</th>\n",
       "    </tr>\n",
       "  </thead>\n",
       "  <tbody>\n",
       "    <tr>\n",
       "      <th>0</th>\n",
       "      <td>HC</td>\n",
       "      <td>buttontone</td>\n",
       "      <td>-99.6094</td>\n",
       "      <td>Fz</td>\n",
       "      <td>-0.106914</td>\n",
       "    </tr>\n",
       "    <tr>\n",
       "      <th>1</th>\n",
       "      <td>HC</td>\n",
       "      <td>buttontone</td>\n",
       "      <td>-98.6328</td>\n",
       "      <td>Fz</td>\n",
       "      <td>-0.135403</td>\n",
       "    </tr>\n",
       "    <tr>\n",
       "      <th>2</th>\n",
       "      <td>HC</td>\n",
       "      <td>buttontone</td>\n",
       "      <td>-97.6563</td>\n",
       "      <td>Fz</td>\n",
       "      <td>-0.083589</td>\n",
       "    </tr>\n",
       "    <tr>\n",
       "      <th>3</th>\n",
       "      <td>HC</td>\n",
       "      <td>buttontone</td>\n",
       "      <td>-96.6797</td>\n",
       "      <td>Fz</td>\n",
       "      <td>-0.056245</td>\n",
       "    </tr>\n",
       "    <tr>\n",
       "      <th>4</th>\n",
       "      <td>HC</td>\n",
       "      <td>buttontone</td>\n",
       "      <td>-95.7031</td>\n",
       "      <td>Fz</td>\n",
       "      <td>-0.012324</td>\n",
       "    </tr>\n",
       "    <tr>\n",
       "      <th>...</th>\n",
       "      <td>...</td>\n",
       "      <td>...</td>\n",
       "      <td>...</td>\n",
       "      <td>...</td>\n",
       "      <td>...</td>\n",
       "    </tr>\n",
       "    <tr>\n",
       "      <th>4505</th>\n",
       "      <td>SZ</td>\n",
       "      <td>buttontone</td>\n",
       "      <td>295.8984</td>\n",
       "      <td>Cz</td>\n",
       "      <td>-0.171759</td>\n",
       "    </tr>\n",
       "    <tr>\n",
       "      <th>4506</th>\n",
       "      <td>SZ</td>\n",
       "      <td>buttontone</td>\n",
       "      <td>296.8750</td>\n",
       "      <td>Cz</td>\n",
       "      <td>-0.166959</td>\n",
       "    </tr>\n",
       "    <tr>\n",
       "      <th>4507</th>\n",
       "      <td>SZ</td>\n",
       "      <td>buttontone</td>\n",
       "      <td>297.8516</td>\n",
       "      <td>Cz</td>\n",
       "      <td>-0.221777</td>\n",
       "    </tr>\n",
       "    <tr>\n",
       "      <th>4508</th>\n",
       "      <td>SZ</td>\n",
       "      <td>buttontone</td>\n",
       "      <td>298.8281</td>\n",
       "      <td>Cz</td>\n",
       "      <td>-0.225479</td>\n",
       "    </tr>\n",
       "    <tr>\n",
       "      <th>4509</th>\n",
       "      <td>SZ</td>\n",
       "      <td>buttontone</td>\n",
       "      <td>299.8047</td>\n",
       "      <td>Cz</td>\n",
       "      <td>-0.185067</td>\n",
       "    </tr>\n",
       "  </tbody>\n",
       "</table>\n",
       "<p>2460 rows × 5 columns</p>\n",
       "</div>"
      ],
      "text/plain": [
       "      group   condition   time_ms variable     value\n",
       "0        HC  buttontone  -99.6094       Fz -0.106914\n",
       "1        HC  buttontone  -98.6328       Fz -0.135403\n",
       "2        HC  buttontone  -97.6563       Fz -0.083589\n",
       "3        HC  buttontone  -96.6797       Fz -0.056245\n",
       "4        HC  buttontone  -95.7031       Fz -0.012324\n",
       "...     ...         ...       ...      ...       ...\n",
       "4505     SZ  buttontone  295.8984       Cz -0.171759\n",
       "4506     SZ  buttontone  296.8750       Cz -0.166959\n",
       "4507     SZ  buttontone  297.8516       Cz -0.221777\n",
       "4508     SZ  buttontone  298.8281       Cz -0.225479\n",
       "4509     SZ  buttontone  299.8047       Cz -0.185067\n",
       "\n",
       "[2460 rows x 5 columns]"
      ]
     },
     "execution_count": 16,
     "metadata": {},
     "output_type": "execute_result"
    }
   ],
   "source": [
    "## plot of several conditions\n",
    "button = ERP[ERP['condition'] == 'buttontone']\n",
    "play = ERP[ERP['condition'] == 'playtone']\n",
    "button"
   ]
  },
  {
   "cell_type": "code",
   "execution_count": 17,
   "id": "b54bd0d6",
   "metadata": {},
   "outputs": [
    {
     "data": {
      "text/plain": [
       "<matplotlib.legend.Legend at 0x263ea3c2fd0>"
      ]
     },
     "execution_count": 17,
     "metadata": {},
     "output_type": "execute_result"
    },
    {
     "data": {
      "image/png": "[encoded data removed]",
      "text/plain": [
       "<Figure size 432x288 with 1 Axes>"
      ]
     },
     "metadata": {},
     "output_type": "display_data"
    }
   ],
   "source": [
    "# plot of HC in buttonetone vs playback in different channels\n",
    "plt.style.use('fivethirtyeight')\n",
    "x1 = button.loc[(button['variable'] == 'Fz') & (button[' group'] == 'HC'), ['time_ms','value']]\n",
    "y1 = play.loc[(play['variable'] == 'Fz') & (play[' group'] == 'HC'), ['time_ms','value']]\n",
    "\n",
    "plt.figure()\n",
    "plt.plot(x1['time_ms'], x1['value'])\n",
    "plt.plot(y1['time_ms'], y1['value'])\n",
    "plt.title('Fz of controls')\n",
    "plt.legend(['playback','button_tone'])"
   ]
  },
  {
   "cell_type": "code",
   "execution_count": 18,
   "id": "531421a3",
   "metadata": {},
   "outputs": [
    {
     "data": {
      "text/plain": [
       "<matplotlib.legend.Legend at 0x26380078970>"
      ]
     },
     "execution_count": 18,
     "metadata": {},
     "output_type": "execute_result"
    },
    {
     "data": {
      "image/png": "[encoded data removed]",
      "text/plain": [
       "<Figure size 432x288 with 1 Axes>"
      ]
     },
     "metadata": {},
     "output_type": "display_data"
    }
   ],
   "source": [
    "x2 = button.loc[(button['variable'] == 'FCz') & (button[' group'] == 'HC'), ['time_ms','value']]\n",
    "y2 = play.loc[(play['variable'] == 'FCz') & (play[' group'] == 'HC'), ['time_ms','value']]\n",
    "\n",
    "plt.figure()\n",
    "plt.plot(x2['time_ms'], x2['value'])\n",
    "plt.plot(y2['time_ms'], y2['value'])\n",
    "plt.title('FCz of controls')\n",
    "plt.legend(['playback','button_tone'])"
   ]
  },
  {
   "cell_type": "code",
   "execution_count": 19,
   "id": "ce635b60",
   "metadata": {},
   "outputs": [
    {
     "data": {
      "text/plain": [
       "<matplotlib.legend.Legend at 0x26380098250>"
      ]
     },
     "execution_count": 19,
     "metadata": {},
     "output_type": "execute_result"
    },
    {
     "data": {
      "image/png": "[encoded data removed]",
      "text/plain": [
       "<Figure size 432x288 with 1 Axes>"
      ]
     },
     "metadata": {},
     "output_type": "display_data"
    }
   ],
   "source": [
    "x3 = button.loc[(button['variable'] == 'Cz') & (button[' group'] == 'HC'), ['time_ms','value']]\n",
    "y3 = play.loc[(play['variable'] == 'Cz') & (play[' group'] == 'HC'), ['time_ms','value']]\n",
    "\n",
    "plt.figure()\n",
    "plt.plot(x3['time_ms'], x3['value'])\n",
    "plt.plot(y3['time_ms'], y3['value'])\n",
    "plt.title('Cz of controls')\n",
    "plt.legend(['playback','button_tone'])"
   ]
  },
  {
   "cell_type": "code",
   "execution_count": 20,
   "id": "3d4ca9ed",
   "metadata": {
    "scrolled": true
   },
   "outputs": [
    {
     "data": {
      "text/plain": [
       "<matplotlib.legend.Legend at 0x2638017ea60>"
      ]
     },
     "execution_count": 20,
     "metadata": {},
     "output_type": "execute_result"
    },
    {
     "data": {
      "image/png": "[encoded data removed]",
      "text/plain": [
       "<Figure size 432x288 with 1 Axes>"
      ]
     },
     "metadata": {},
     "output_type": "display_data"
    }
   ],
   "source": [
    "# plot of SZ in buttonetone vs playback in different channels\n",
    "x4 = button.loc[(button['variable'] == 'Fz') & (button[' group'] == 'SZ'), ['time_ms','value']]\n",
    "y4 = play.loc[(play['variable'] == 'Fz') & (play[' group'] == 'SZ'), ['time_ms','value']]\n",
    "\n",
    "plt.figure()\n",
    "plt.plot(x4['time_ms'], x4['value'])\n",
    "plt.plot(y4['time_ms'], y4['value'])\n",
    "plt.title('Fz of Schizophrenia')\n",
    "plt.legend(['playback','button_tone'])"
   ]
  },
  {
   "cell_type": "code",
   "execution_count": 21,
   "id": "2d8fc8f0",
   "metadata": {},
   "outputs": [
    {
     "data": {
      "text/plain": [
       "<matplotlib.legend.Legend at 0x263801effd0>"
      ]
     },
     "execution_count": 21,
     "metadata": {},
     "output_type": "execute_result"
    },
    {
     "data": {
      "image/png": "[encoded data removed]",
      "text/plain": [
       "<Figure size 432x288 with 1 Axes>"
      ]
     },
     "metadata": {},
     "output_type": "display_data"
    }
   ],
   "source": [
    "x5 = button.loc[(button['variable'] == 'FCz') & (button[' group'] == 'SZ'), ['time_ms','value']]\n",
    "y5 = play.loc[(play['variable'] == 'FCz') & (play[' group'] == 'SZ'), ['time_ms','value']]\n",
    "\n",
    "plt.figure()\n",
    "plt.plot(x5['time_ms'], x5['value'])\n",
    "plt.plot(y5['time_ms'], y5['value'])\n",
    "plt.title('FCz of Schizophrenia')\n",
    "plt.legend(['playback','button_tone'])"
   ]
  },
  {
   "cell_type": "code",
   "execution_count": 22,
   "id": "1ce8a4d3",
   "metadata": {},
   "outputs": [
    {
     "data": {
      "text/plain": [
       "<matplotlib.legend.Legend at 0x2638025ad90>"
      ]
     },
     "execution_count": 22,
     "metadata": {},
     "output_type": "execute_result"
    },
    {
     "data": {
      "image/png": "[encoded data removed]",
      "text/plain": [
       "<Figure size 432x288 with 1 Axes>"
      ]
     },
     "metadata": {},
     "output_type": "display_data"
    }
   ],
   "source": [
    "x6 = button.loc[(button['variable'] == 'Cz') & (button[' group'] == 'SZ'), ['time_ms','value']]\n",
    "y6 = play.loc[(play['variable'] == 'Cz') & (play[' group'] == 'SZ'), ['time_ms','value']]\n",
    "\n",
    "plt.figure()\n",
    "plt.plot(x6['time_ms'], x6['value'])\n",
    "plt.plot(y6['time_ms'], y6['value'])\n",
    "plt.title('Cz of Schizophrenia')\n",
    "plt.legend(['playback','button_tone'])"
   ]
  },
  {
   "cell_type": "markdown",
   "id": "54421af7",
   "metadata": {},
   "source": [
    "### Plot Scalp Topography "
   ]
  },
  {
   "cell_type": "code",
   "execution_count": 23,
   "id": "855fd975",
   "metadata": {},
   "outputs": [
    {
     "data": {
      "text/html": [
       "<div>\n",
       "<style scoped>\n",
       "    .dataframe tbody tr th:only-of-type {\n",
       "        vertical-align: middle;\n",
       "    }\n",
       "\n",
       "    .dataframe tbody tr th {\n",
       "        vertical-align: top;\n",
       "    }\n",
       "\n",
       "    .dataframe thead th {\n",
       "        text-align: right;\n",
       "    }\n",
       "</style>\n",
       "<table border=\"1\" class=\"dataframe\">\n",
       "  <thead>\n",
       "    <tr style=\"text-align: right;\">\n",
       "      <th></th>\n",
       "      <th>group</th>\n",
       "      <th>condition</th>\n",
       "      <th>time_ms</th>\n",
       "      <th>variable</th>\n",
       "      <th>value</th>\n",
       "    </tr>\n",
       "  </thead>\n",
       "  <tbody>\n",
       "    <tr>\n",
       "      <th>0</th>\n",
       "      <td>HC</td>\n",
       "      <td>buttontone</td>\n",
       "      <td>-99.6094</td>\n",
       "      <td>Fz</td>\n",
       "      <td>-0.106914</td>\n",
       "    </tr>\n",
       "    <tr>\n",
       "      <th>1</th>\n",
       "      <td>HC</td>\n",
       "      <td>buttontone</td>\n",
       "      <td>-98.6328</td>\n",
       "      <td>Fz</td>\n",
       "      <td>-0.135403</td>\n",
       "    </tr>\n",
       "    <tr>\n",
       "      <th>2</th>\n",
       "      <td>HC</td>\n",
       "      <td>buttontone</td>\n",
       "      <td>-97.6563</td>\n",
       "      <td>Fz</td>\n",
       "      <td>-0.083589</td>\n",
       "    </tr>\n",
       "    <tr>\n",
       "      <th>3</th>\n",
       "      <td>HC</td>\n",
       "      <td>buttontone</td>\n",
       "      <td>-96.6797</td>\n",
       "      <td>Fz</td>\n",
       "      <td>-0.056245</td>\n",
       "    </tr>\n",
       "    <tr>\n",
       "      <th>4</th>\n",
       "      <td>HC</td>\n",
       "      <td>buttontone</td>\n",
       "      <td>-95.7031</td>\n",
       "      <td>Fz</td>\n",
       "      <td>-0.012324</td>\n",
       "    </tr>\n",
       "    <tr>\n",
       "      <th>...</th>\n",
       "      <td>...</td>\n",
       "      <td>...</td>\n",
       "      <td>...</td>\n",
       "      <td>...</td>\n",
       "      <td>...</td>\n",
       "    </tr>\n",
       "    <tr>\n",
       "      <th>4095</th>\n",
       "      <td>HC</td>\n",
       "      <td>playtone</td>\n",
       "      <td>295.8984</td>\n",
       "      <td>Cz</td>\n",
       "      <td>0.464255</td>\n",
       "    </tr>\n",
       "    <tr>\n",
       "      <th>4096</th>\n",
       "      <td>HC</td>\n",
       "      <td>playtone</td>\n",
       "      <td>296.8750</td>\n",
       "      <td>Cz</td>\n",
       "      <td>0.406632</td>\n",
       "    </tr>\n",
       "    <tr>\n",
       "      <th>4097</th>\n",
       "      <td>HC</td>\n",
       "      <td>playtone</td>\n",
       "      <td>297.8516</td>\n",
       "      <td>Cz</td>\n",
       "      <td>0.328958</td>\n",
       "    </tr>\n",
       "    <tr>\n",
       "      <th>4098</th>\n",
       "      <td>HC</td>\n",
       "      <td>playtone</td>\n",
       "      <td>298.8281</td>\n",
       "      <td>Cz</td>\n",
       "      <td>0.314174</td>\n",
       "    </tr>\n",
       "    <tr>\n",
       "      <th>4099</th>\n",
       "      <td>HC</td>\n",
       "      <td>playtone</td>\n",
       "      <td>299.8047</td>\n",
       "      <td>Cz</td>\n",
       "      <td>0.347232</td>\n",
       "    </tr>\n",
       "  </tbody>\n",
       "</table>\n",
       "<p>2460 rows × 5 columns</p>\n",
       "</div>"
      ],
      "text/plain": [
       "      group   condition   time_ms variable     value\n",
       "0        HC  buttontone  -99.6094       Fz -0.106914\n",
       "1        HC  buttontone  -98.6328       Fz -0.135403\n",
       "2        HC  buttontone  -97.6563       Fz -0.083589\n",
       "3        HC  buttontone  -96.6797       Fz -0.056245\n",
       "4        HC  buttontone  -95.7031       Fz -0.012324\n",
       "...     ...         ...       ...      ...       ...\n",
       "4095     HC    playtone  295.8984       Cz  0.464255\n",
       "4096     HC    playtone  296.8750       Cz  0.406632\n",
       "4097     HC    playtone  297.8516       Cz  0.328958\n",
       "4098     HC    playtone  298.8281       Cz  0.314174\n",
       "4099     HC    playtone  299.8047       Cz  0.347232\n",
       "\n",
       "[2460 rows x 5 columns]"
      ]
     },
     "execution_count": 23,
     "metadata": {},
     "output_type": "execute_result"
    }
   ],
   "source": [
    "#Topography for Healthy group\n",
    "HC = ERP[ERP[' group'] == 'HC']\n",
    "HC"
   ]
  },
  {
   "cell_type": "code",
   "execution_count": 24,
   "id": "587579e4",
   "metadata": {},
   "outputs": [
    {
     "name": "stdout",
     "output_type": "stream",
     "text": [
      "<class 'pandas.core.frame.DataFrame'>\n",
      "Int64Index: 2460 entries, 0 to 4099\n",
      "Data columns (total 5 columns):\n",
      " #   Column     Non-Null Count  Dtype  \n",
      "---  ------     --------------  -----  \n",
      " 0    group     2460 non-null   object \n",
      " 1   condition  2460 non-null   object \n",
      " 2   time_ms    2460 non-null   float64\n",
      " 3   variable   2460 non-null   object \n",
      " 4   value      2460 non-null   float64\n",
      "dtypes: float64(2), object(3)\n",
      "memory usage: 115.3+ KB\n"
     ]
    }
   ],
   "source": [
    "HC.info()"
   ]
  },
  {
   "cell_type": "code",
   "execution_count": 25,
   "id": "e83124e1",
   "metadata": {},
   "outputs": [
    {
     "data": {
      "text/html": [
       "<div>\n",
       "<style scoped>\n",
       "    .dataframe tbody tr th:only-of-type {\n",
       "        vertical-align: middle;\n",
       "    }\n",
       "\n",
       "    .dataframe tbody tr th {\n",
       "        vertical-align: top;\n",
       "    }\n",
       "\n",
       "    .dataframe thead th {\n",
       "        text-align: right;\n",
       "    }\n",
       "</style>\n",
       "<table border=\"1\" class=\"dataframe\">\n",
       "  <thead>\n",
       "    <tr style=\"text-align: right;\">\n",
       "      <th></th>\n",
       "      <th>group</th>\n",
       "      <th>condition</th>\n",
       "      <th>time_ms</th>\n",
       "      <th>variable</th>\n",
       "      <th>value</th>\n",
       "    </tr>\n",
       "  </thead>\n",
       "  <tbody>\n",
       "    <tr>\n",
       "      <th>0</th>\n",
       "      <td>HC</td>\n",
       "      <td>buttontone</td>\n",
       "      <td>-99.6094</td>\n",
       "      <td>Fz</td>\n",
       "      <td>-0.106914</td>\n",
       "    </tr>\n",
       "    <tr>\n",
       "      <th>1</th>\n",
       "      <td>HC</td>\n",
       "      <td>buttontone</td>\n",
       "      <td>-98.6328</td>\n",
       "      <td>Fz</td>\n",
       "      <td>-0.135403</td>\n",
       "    </tr>\n",
       "    <tr>\n",
       "      <th>2</th>\n",
       "      <td>HC</td>\n",
       "      <td>buttontone</td>\n",
       "      <td>-97.6563</td>\n",
       "      <td>Fz</td>\n",
       "      <td>-0.083589</td>\n",
       "    </tr>\n",
       "    <tr>\n",
       "      <th>3</th>\n",
       "      <td>HC</td>\n",
       "      <td>buttontone</td>\n",
       "      <td>-96.6797</td>\n",
       "      <td>Fz</td>\n",
       "      <td>-0.056245</td>\n",
       "    </tr>\n",
       "    <tr>\n",
       "      <th>4</th>\n",
       "      <td>HC</td>\n",
       "      <td>buttontone</td>\n",
       "      <td>-95.7031</td>\n",
       "      <td>Fz</td>\n",
       "      <td>-0.012324</td>\n",
       "    </tr>\n",
       "    <tr>\n",
       "      <th>...</th>\n",
       "      <td>...</td>\n",
       "      <td>...</td>\n",
       "      <td>...</td>\n",
       "      <td>...</td>\n",
       "      <td>...</td>\n",
       "    </tr>\n",
       "    <tr>\n",
       "      <th>4095</th>\n",
       "      <td>HC</td>\n",
       "      <td>playtone</td>\n",
       "      <td>295.8984</td>\n",
       "      <td>Cz</td>\n",
       "      <td>0.464255</td>\n",
       "    </tr>\n",
       "    <tr>\n",
       "      <th>4096</th>\n",
       "      <td>HC</td>\n",
       "      <td>playtone</td>\n",
       "      <td>296.8750</td>\n",
       "      <td>Cz</td>\n",
       "      <td>0.406632</td>\n",
       "    </tr>\n",
       "    <tr>\n",
       "      <th>4097</th>\n",
       "      <td>HC</td>\n",
       "      <td>playtone</td>\n",
       "      <td>297.8516</td>\n",
       "      <td>Cz</td>\n",
       "      <td>0.328958</td>\n",
       "    </tr>\n",
       "    <tr>\n",
       "      <th>4098</th>\n",
       "      <td>HC</td>\n",
       "      <td>playtone</td>\n",
       "      <td>298.8281</td>\n",
       "      <td>Cz</td>\n",
       "      <td>0.314174</td>\n",
       "    </tr>\n",
       "    <tr>\n",
       "      <th>4099</th>\n",
       "      <td>HC</td>\n",
       "      <td>playtone</td>\n",
       "      <td>299.8047</td>\n",
       "      <td>Cz</td>\n",
       "      <td>0.347232</td>\n",
       "    </tr>\n",
       "  </tbody>\n",
       "</table>\n",
       "<p>2460 rows × 5 columns</p>\n",
       "</div>"
      ],
      "text/plain": [
       "      group   condition   time_ms variable     value\n",
       "0        HC  buttontone  -99.6094       Fz -0.106914\n",
       "1        HC  buttontone  -98.6328       Fz -0.135403\n",
       "2        HC  buttontone  -97.6563       Fz -0.083589\n",
       "3        HC  buttontone  -96.6797       Fz -0.056245\n",
       "4        HC  buttontone  -95.7031       Fz -0.012324\n",
       "...     ...         ...       ...      ...       ...\n",
       "4095     HC    playtone  295.8984       Cz  0.464255\n",
       "4096     HC    playtone  296.8750       Cz  0.406632\n",
       "4097     HC    playtone  297.8516       Cz  0.328958\n",
       "4098     HC    playtone  298.8281       Cz  0.314174\n",
       "4099     HC    playtone  299.8047       Cz  0.347232\n",
       "\n",
       "[2460 rows x 5 columns]"
      ]
     },
     "execution_count": 25,
     "metadata": {},
     "output_type": "execute_result"
    }
   ],
   "source": [
    "HC"
   ]
  },
  {
   "cell_type": "code",
   "execution_count": 26,
   "id": "5026ca9f",
   "metadata": {},
   "outputs": [
    {
     "data": {
      "text/html": [
       "<div>\n",
       "<style scoped>\n",
       "    .dataframe tbody tr th:only-of-type {\n",
       "        vertical-align: middle;\n",
       "    }\n",
       "\n",
       "    .dataframe tbody tr th {\n",
       "        vertical-align: top;\n",
       "    }\n",
       "\n",
       "    .dataframe thead th {\n",
       "        text-align: right;\n",
       "    }\n",
       "</style>\n",
       "<table border=\"1\" class=\"dataframe\">\n",
       "  <thead>\n",
       "    <tr style=\"text-align: right;\">\n",
       "      <th></th>\n",
       "      <th>group</th>\n",
       "      <th>condition_buttontone</th>\n",
       "      <th>time_ms</th>\n",
       "      <th>variable</th>\n",
       "      <th>value_buttontone</th>\n",
       "      <th>condition_playtone</th>\n",
       "      <th>value_playtone</th>\n",
       "      <th>value</th>\n",
       "    </tr>\n",
       "  </thead>\n",
       "  <tbody>\n",
       "    <tr>\n",
       "      <th>0</th>\n",
       "      <td>HC</td>\n",
       "      <td>buttontone</td>\n",
       "      <td>80.0781</td>\n",
       "      <td>Fz</td>\n",
       "      <td>-2.993968</td>\n",
       "      <td>playtone</td>\n",
       "      <td>-5.223857</td>\n",
       "      <td>2.229889</td>\n",
       "    </tr>\n",
       "    <tr>\n",
       "      <th>1</th>\n",
       "      <td>HC</td>\n",
       "      <td>buttontone</td>\n",
       "      <td>81.0547</td>\n",
       "      <td>Fz</td>\n",
       "      <td>-3.180872</td>\n",
       "      <td>playtone</td>\n",
       "      <td>-5.387342</td>\n",
       "      <td>2.206470</td>\n",
       "    </tr>\n",
       "    <tr>\n",
       "      <th>2</th>\n",
       "      <td>HC</td>\n",
       "      <td>buttontone</td>\n",
       "      <td>82.0313</td>\n",
       "      <td>Fz</td>\n",
       "      <td>-3.121761</td>\n",
       "      <td>playtone</td>\n",
       "      <td>-5.496822</td>\n",
       "      <td>2.375061</td>\n",
       "    </tr>\n",
       "    <tr>\n",
       "      <th>3</th>\n",
       "      <td>HC</td>\n",
       "      <td>buttontone</td>\n",
       "      <td>83.0078</td>\n",
       "      <td>Fz</td>\n",
       "      <td>-3.215377</td>\n",
       "      <td>playtone</td>\n",
       "      <td>-5.563219</td>\n",
       "      <td>2.347842</td>\n",
       "    </tr>\n",
       "    <tr>\n",
       "      <th>4</th>\n",
       "      <td>HC</td>\n",
       "      <td>buttontone</td>\n",
       "      <td>83.9844</td>\n",
       "      <td>Fz</td>\n",
       "      <td>-3.422392</td>\n",
       "      <td>playtone</td>\n",
       "      <td>-5.607130</td>\n",
       "      <td>2.184738</td>\n",
       "    </tr>\n",
       "    <tr>\n",
       "      <th>...</th>\n",
       "      <td>...</td>\n",
       "      <td>...</td>\n",
       "      <td>...</td>\n",
       "      <td>...</td>\n",
       "      <td>...</td>\n",
       "      <td>...</td>\n",
       "      <td>...</td>\n",
       "      <td>...</td>\n",
       "    </tr>\n",
       "    <tr>\n",
       "      <th>58</th>\n",
       "      <td>HC</td>\n",
       "      <td>buttontone</td>\n",
       "      <td>95.7031</td>\n",
       "      <td>Cz</td>\n",
       "      <td>-3.105704</td>\n",
       "      <td>playtone</td>\n",
       "      <td>-5.459947</td>\n",
       "      <td>2.354243</td>\n",
       "    </tr>\n",
       "    <tr>\n",
       "      <th>59</th>\n",
       "      <td>HC</td>\n",
       "      <td>buttontone</td>\n",
       "      <td>96.6797</td>\n",
       "      <td>Cz</td>\n",
       "      <td>-3.060376</td>\n",
       "      <td>playtone</td>\n",
       "      <td>-5.363770</td>\n",
       "      <td>2.303395</td>\n",
       "    </tr>\n",
       "    <tr>\n",
       "      <th>60</th>\n",
       "      <td>HC</td>\n",
       "      <td>buttontone</td>\n",
       "      <td>97.6563</td>\n",
       "      <td>Cz</td>\n",
       "      <td>-2.941974</td>\n",
       "      <td>playtone</td>\n",
       "      <td>-5.228327</td>\n",
       "      <td>2.286353</td>\n",
       "    </tr>\n",
       "    <tr>\n",
       "      <th>61</th>\n",
       "      <td>HC</td>\n",
       "      <td>buttontone</td>\n",
       "      <td>98.6328</td>\n",
       "      <td>Cz</td>\n",
       "      <td>-2.822367</td>\n",
       "      <td>playtone</td>\n",
       "      <td>-5.066122</td>\n",
       "      <td>2.243755</td>\n",
       "    </tr>\n",
       "    <tr>\n",
       "      <th>62</th>\n",
       "      <td>HC</td>\n",
       "      <td>buttontone</td>\n",
       "      <td>99.6094</td>\n",
       "      <td>Cz</td>\n",
       "      <td>-2.758127</td>\n",
       "      <td>playtone</td>\n",
       "      <td>-4.941708</td>\n",
       "      <td>2.183582</td>\n",
       "    </tr>\n",
       "  </tbody>\n",
       "</table>\n",
       "<p>63 rows × 8 columns</p>\n",
       "</div>"
      ],
      "text/plain": [
       "    group condition_buttontone  time_ms variable  value_buttontone  \\\n",
       "0      HC           buttontone  80.0781       Fz         -2.993968   \n",
       "1      HC           buttontone  81.0547       Fz         -3.180872   \n",
       "2      HC           buttontone  82.0313       Fz         -3.121761   \n",
       "3      HC           buttontone  83.0078       Fz         -3.215377   \n",
       "4      HC           buttontone  83.9844       Fz         -3.422392   \n",
       "..    ...                  ...      ...      ...               ...   \n",
       "58     HC           buttontone  95.7031       Cz         -3.105704   \n",
       "59     HC           buttontone  96.6797       Cz         -3.060376   \n",
       "60     HC           buttontone  97.6563       Cz         -2.941974   \n",
       "61     HC           buttontone  98.6328       Cz         -2.822367   \n",
       "62     HC           buttontone  99.6094       Cz         -2.758127   \n",
       "\n",
       "   condition_playtone  value_playtone     value  \n",
       "0            playtone       -5.223857  2.229889  \n",
       "1            playtone       -5.387342  2.206470  \n",
       "2            playtone       -5.496822  2.375061  \n",
       "3            playtone       -5.563219  2.347842  \n",
       "4            playtone       -5.607130  2.184738  \n",
       "..                ...             ...       ...  \n",
       "58           playtone       -5.459947  2.354243  \n",
       "59           playtone       -5.363770  2.303395  \n",
       "60           playtone       -5.228327  2.286353  \n",
       "61           playtone       -5.066122  2.243755  \n",
       "62           playtone       -4.941708  2.183582  \n",
       "\n",
       "[63 rows x 8 columns]"
      ]
     },
     "execution_count": 26,
     "metadata": {},
     "output_type": "execute_result"
    }
   ],
   "source": [
    "merged_df = pd.merge(\n",
    "    HC[(HC.time_ms.between(80,100)) & (HC.condition=='buttontone')],\n",
    "    HC[(HC.time_ms.between(80,100)) & (HC.condition=='playtone')],\n",
    "    on=[' group', 'time_ms', 'variable'],\n",
    "    suffixes=('_buttontone', '_playtone')\n",
    ")\n",
    "\n",
    "merged_df['value'] = merged_df['value_buttontone'] - merged_df['value_playtone']\n",
    "merged_df"
   ]
  },
  {
   "cell_type": "code",
   "execution_count": 27,
   "id": "77ea5c00",
   "metadata": {},
   "outputs": [
    {
     "name": "stdout",
     "output_type": "stream",
     "text": [
      "['Fz', 'FCz', 'Cz']\n"
     ]
    },
    {
     "data": {
      "text/plain": [
       "<Evoked | '' (average, N=1), 0 – 0.02 sec, baseline off, 3 ch, ~11 kB>"
      ]
     },
     "execution_count": 27,
     "metadata": {},
     "output_type": "execute_result"
    }
   ],
   "source": [
    "g = merged_df.groupby(\"time_ms\")\n",
    "time_value = g.apply(lambda r: list(r.value))\n",
    "subset = g.apply(lambda r: list(r.variable)).iloc[0]\n",
    "print(subset)\n",
    "\n",
    "biosemi_montage = mne.channels.make_standard_montage('biosemi64')\n",
    "info = mne.create_info(subset, sfreq=1000., ch_types='eeg')\n",
    "\n",
    "earr = mne.EvokedArray(\n",
    "    np.array(time_value.tolist()).T,\n",
    "    info\n",
    ")\n",
    "earr.set_montage(biosemi_montage)"
   ]
  },
  {
   "cell_type": "code",
   "execution_count": 28,
   "id": "0d3ae684",
   "metadata": {},
   "outputs": [
    {
     "data": {
      "text/plain": [
       "['Fz', 'FCz', 'Cz']"
      ]
     },
     "execution_count": 28,
     "metadata": {},
     "output_type": "execute_result"
    }
   ],
   "source": [
    "subset"
   ]
  },
  {
   "cell_type": "code",
   "execution_count": 29,
   "id": "b2f2dd0c",
   "metadata": {},
   "outputs": [
    {
     "data": {
      "text/plain": [
       "<Evoked | '' (average, N=1), 0 – 0.02 sec, baseline off, 3 ch, ~11 kB>"
      ]
     },
     "execution_count": 29,
     "metadata": {},
     "output_type": "execute_result"
    }
   ],
   "source": [
    "earr"
   ]
  },
  {
   "cell_type": "code",
   "execution_count": 30,
   "id": "87250ba8",
   "metadata": {},
   "outputs": [
    {
     "data": {
      "image/png": "[encoded data removed]",
      "text/plain": [
       "<Figure size 576x288 with 1 Axes>"
      ]
     },
     "metadata": {},
     "output_type": "display_data"
    }
   ],
   "source": [
    "fig, ax = plt.subplots(ncols=1, figsize=(8, 4), gridspec_kw=dict(top=0.9),\n",
    "                       sharex=True, sharey=True)\n",
    "\n",
    "\n",
    "earr.plot_sensors(axes=ax,show=False)\n",
    "mne.viz.plot_topomap(np.mean(earr.data, axis=1),earr.info,show=False,axes=ax)\n",
    "plt.show()"
   ]
  },
  {
   "cell_type": "code",
   "execution_count": 31,
   "id": "4bcde755",
   "metadata": {},
   "outputs": [],
   "source": [
    "## For Schizophrenia group\n",
    "SZ = ERP[ERP[' group'] == 'SZ']"
   ]
  },
  {
   "cell_type": "code",
   "execution_count": 32,
   "id": "f093247d",
   "metadata": {},
   "outputs": [
    {
     "name": "stdout",
     "output_type": "stream",
     "text": [
      "<class 'pandas.core.frame.DataFrame'>\n",
      "Int64Index: 2460 entries, 820 to 4919\n",
      "Data columns (total 5 columns):\n",
      " #   Column     Non-Null Count  Dtype  \n",
      "---  ------     --------------  -----  \n",
      " 0    group     2460 non-null   object \n",
      " 1   condition  2460 non-null   object \n",
      " 2   time_ms    2460 non-null   float64\n",
      " 3   variable   2460 non-null   object \n",
      " 4   value      2460 non-null   float64\n",
      "dtypes: float64(2), object(3)\n",
      "memory usage: 115.3+ KB\n"
     ]
    }
   ],
   "source": [
    "SZ.info()"
   ]
  },
  {
   "cell_type": "code",
   "execution_count": 33,
   "id": "b1a6f9e0",
   "metadata": {},
   "outputs": [
    {
     "data": {
      "text/html": [
       "<div>\n",
       "<style scoped>\n",
       "    .dataframe tbody tr th:only-of-type {\n",
       "        vertical-align: middle;\n",
       "    }\n",
       "\n",
       "    .dataframe tbody tr th {\n",
       "        vertical-align: top;\n",
       "    }\n",
       "\n",
       "    .dataframe thead th {\n",
       "        text-align: right;\n",
       "    }\n",
       "</style>\n",
       "<table border=\"1\" class=\"dataframe\">\n",
       "  <thead>\n",
       "    <tr style=\"text-align: right;\">\n",
       "      <th></th>\n",
       "      <th>group</th>\n",
       "      <th>condition</th>\n",
       "      <th>time_ms</th>\n",
       "      <th>variable</th>\n",
       "      <th>value</th>\n",
       "    </tr>\n",
       "  </thead>\n",
       "  <tbody>\n",
       "    <tr>\n",
       "      <th>820</th>\n",
       "      <td>SZ</td>\n",
       "      <td>buttontone</td>\n",
       "      <td>-99.6094</td>\n",
       "      <td>Fz</td>\n",
       "      <td>0.033591</td>\n",
       "    </tr>\n",
       "    <tr>\n",
       "      <th>821</th>\n",
       "      <td>SZ</td>\n",
       "      <td>buttontone</td>\n",
       "      <td>-98.6328</td>\n",
       "      <td>Fz</td>\n",
       "      <td>0.020566</td>\n",
       "    </tr>\n",
       "    <tr>\n",
       "      <th>822</th>\n",
       "      <td>SZ</td>\n",
       "      <td>buttontone</td>\n",
       "      <td>-97.6563</td>\n",
       "      <td>Fz</td>\n",
       "      <td>0.040279</td>\n",
       "    </tr>\n",
       "    <tr>\n",
       "      <th>823</th>\n",
       "      <td>SZ</td>\n",
       "      <td>buttontone</td>\n",
       "      <td>-96.6797</td>\n",
       "      <td>Fz</td>\n",
       "      <td>0.062540</td>\n",
       "    </tr>\n",
       "    <tr>\n",
       "      <th>824</th>\n",
       "      <td>SZ</td>\n",
       "      <td>buttontone</td>\n",
       "      <td>-95.7031</td>\n",
       "      <td>Fz</td>\n",
       "      <td>0.071409</td>\n",
       "    </tr>\n",
       "    <tr>\n",
       "      <th>...</th>\n",
       "      <td>...</td>\n",
       "      <td>...</td>\n",
       "      <td>...</td>\n",
       "      <td>...</td>\n",
       "      <td>...</td>\n",
       "    </tr>\n",
       "    <tr>\n",
       "      <th>4915</th>\n",
       "      <td>SZ</td>\n",
       "      <td>playtone</td>\n",
       "      <td>295.8984</td>\n",
       "      <td>Cz</td>\n",
       "      <td>0.003643</td>\n",
       "    </tr>\n",
       "    <tr>\n",
       "      <th>4916</th>\n",
       "      <td>SZ</td>\n",
       "      <td>playtone</td>\n",
       "      <td>296.8750</td>\n",
       "      <td>Cz</td>\n",
       "      <td>-0.008686</td>\n",
       "    </tr>\n",
       "    <tr>\n",
       "      <th>4917</th>\n",
       "      <td>SZ</td>\n",
       "      <td>playtone</td>\n",
       "      <td>297.8516</td>\n",
       "      <td>Cz</td>\n",
       "      <td>0.032826</td>\n",
       "    </tr>\n",
       "    <tr>\n",
       "      <th>4918</th>\n",
       "      <td>SZ</td>\n",
       "      <td>playtone</td>\n",
       "      <td>298.8281</td>\n",
       "      <td>Cz</td>\n",
       "      <td>0.012877</td>\n",
       "    </tr>\n",
       "    <tr>\n",
       "      <th>4919</th>\n",
       "      <td>SZ</td>\n",
       "      <td>playtone</td>\n",
       "      <td>299.8047</td>\n",
       "      <td>Cz</td>\n",
       "      <td>0.000480</td>\n",
       "    </tr>\n",
       "  </tbody>\n",
       "</table>\n",
       "<p>2460 rows × 5 columns</p>\n",
       "</div>"
      ],
      "text/plain": [
       "      group   condition   time_ms variable     value\n",
       "820      SZ  buttontone  -99.6094       Fz  0.033591\n",
       "821      SZ  buttontone  -98.6328       Fz  0.020566\n",
       "822      SZ  buttontone  -97.6563       Fz  0.040279\n",
       "823      SZ  buttontone  -96.6797       Fz  0.062540\n",
       "824      SZ  buttontone  -95.7031       Fz  0.071409\n",
       "...     ...         ...       ...      ...       ...\n",
       "4915     SZ    playtone  295.8984       Cz  0.003643\n",
       "4916     SZ    playtone  296.8750       Cz -0.008686\n",
       "4917     SZ    playtone  297.8516       Cz  0.032826\n",
       "4918     SZ    playtone  298.8281       Cz  0.012877\n",
       "4919     SZ    playtone  299.8047       Cz  0.000480\n",
       "\n",
       "[2460 rows x 5 columns]"
      ]
     },
     "execution_count": 33,
     "metadata": {},
     "output_type": "execute_result"
    }
   ],
   "source": [
    "SZ"
   ]
  },
  {
   "cell_type": "code",
   "execution_count": 34,
   "id": "b601b69b",
   "metadata": {},
   "outputs": [
    {
     "data": {
      "text/html": [
       "<div>\n",
       "<style scoped>\n",
       "    .dataframe tbody tr th:only-of-type {\n",
       "        vertical-align: middle;\n",
       "    }\n",
       "\n",
       "    .dataframe tbody tr th {\n",
       "        vertical-align: top;\n",
       "    }\n",
       "\n",
       "    .dataframe thead th {\n",
       "        text-align: right;\n",
       "    }\n",
       "</style>\n",
       "<table border=\"1\" class=\"dataframe\">\n",
       "  <thead>\n",
       "    <tr style=\"text-align: right;\">\n",
       "      <th></th>\n",
       "      <th>group</th>\n",
       "      <th>condition_buttontone</th>\n",
       "      <th>time_ms</th>\n",
       "      <th>variable</th>\n",
       "      <th>value_buttontone</th>\n",
       "      <th>condition_playtone</th>\n",
       "      <th>value_playtone</th>\n",
       "      <th>value</th>\n",
       "    </tr>\n",
       "  </thead>\n",
       "  <tbody>\n",
       "    <tr>\n",
       "      <th>0</th>\n",
       "      <td>SZ</td>\n",
       "      <td>buttontone</td>\n",
       "      <td>80.0781</td>\n",
       "      <td>Fz</td>\n",
       "      <td>-2.954230</td>\n",
       "      <td>playtone</td>\n",
       "      <td>-3.686901</td>\n",
       "      <td>0.732671</td>\n",
       "    </tr>\n",
       "    <tr>\n",
       "      <th>1</th>\n",
       "      <td>SZ</td>\n",
       "      <td>buttontone</td>\n",
       "      <td>81.0547</td>\n",
       "      <td>Fz</td>\n",
       "      <td>-3.010002</td>\n",
       "      <td>playtone</td>\n",
       "      <td>-3.769482</td>\n",
       "      <td>0.759480</td>\n",
       "    </tr>\n",
       "    <tr>\n",
       "      <th>2</th>\n",
       "      <td>SZ</td>\n",
       "      <td>buttontone</td>\n",
       "      <td>82.0313</td>\n",
       "      <td>Fz</td>\n",
       "      <td>-3.084806</td>\n",
       "      <td>playtone</td>\n",
       "      <td>-3.783958</td>\n",
       "      <td>0.699152</td>\n",
       "    </tr>\n",
       "    <tr>\n",
       "      <th>3</th>\n",
       "      <td>SZ</td>\n",
       "      <td>buttontone</td>\n",
       "      <td>83.0078</td>\n",
       "      <td>Fz</td>\n",
       "      <td>-3.245439</td>\n",
       "      <td>playtone</td>\n",
       "      <td>-3.865382</td>\n",
       "      <td>0.619943</td>\n",
       "    </tr>\n",
       "    <tr>\n",
       "      <th>4</th>\n",
       "      <td>SZ</td>\n",
       "      <td>buttontone</td>\n",
       "      <td>83.9844</td>\n",
       "      <td>Fz</td>\n",
       "      <td>-3.403181</td>\n",
       "      <td>playtone</td>\n",
       "      <td>-3.964036</td>\n",
       "      <td>0.560856</td>\n",
       "    </tr>\n",
       "    <tr>\n",
       "      <th>...</th>\n",
       "      <td>...</td>\n",
       "      <td>...</td>\n",
       "      <td>...</td>\n",
       "      <td>...</td>\n",
       "      <td>...</td>\n",
       "      <td>...</td>\n",
       "      <td>...</td>\n",
       "      <td>...</td>\n",
       "    </tr>\n",
       "    <tr>\n",
       "      <th>58</th>\n",
       "      <td>SZ</td>\n",
       "      <td>buttontone</td>\n",
       "      <td>95.7031</td>\n",
       "      <td>Cz</td>\n",
       "      <td>-2.826234</td>\n",
       "      <td>playtone</td>\n",
       "      <td>-4.028085</td>\n",
       "      <td>1.201852</td>\n",
       "    </tr>\n",
       "    <tr>\n",
       "      <th>59</th>\n",
       "      <td>SZ</td>\n",
       "      <td>buttontone</td>\n",
       "      <td>96.6797</td>\n",
       "      <td>Cz</td>\n",
       "      <td>-2.689376</td>\n",
       "      <td>playtone</td>\n",
       "      <td>-3.955305</td>\n",
       "      <td>1.265928</td>\n",
       "    </tr>\n",
       "    <tr>\n",
       "      <th>60</th>\n",
       "      <td>SZ</td>\n",
       "      <td>buttontone</td>\n",
       "      <td>97.6563</td>\n",
       "      <td>Cz</td>\n",
       "      <td>-2.619291</td>\n",
       "      <td>playtone</td>\n",
       "      <td>-3.848882</td>\n",
       "      <td>1.229591</td>\n",
       "    </tr>\n",
       "    <tr>\n",
       "      <th>61</th>\n",
       "      <td>SZ</td>\n",
       "      <td>buttontone</td>\n",
       "      <td>98.6328</td>\n",
       "      <td>Cz</td>\n",
       "      <td>-2.576625</td>\n",
       "      <td>playtone</td>\n",
       "      <td>-3.766657</td>\n",
       "      <td>1.190032</td>\n",
       "    </tr>\n",
       "    <tr>\n",
       "      <th>62</th>\n",
       "      <td>SZ</td>\n",
       "      <td>buttontone</td>\n",
       "      <td>99.6094</td>\n",
       "      <td>Cz</td>\n",
       "      <td>-2.456791</td>\n",
       "      <td>playtone</td>\n",
       "      <td>-3.715881</td>\n",
       "      <td>1.259090</td>\n",
       "    </tr>\n",
       "  </tbody>\n",
       "</table>\n",
       "<p>63 rows × 8 columns</p>\n",
       "</div>"
      ],
      "text/plain": [
       "    group condition_buttontone  time_ms variable  value_buttontone  \\\n",
       "0      SZ           buttontone  80.0781       Fz         -2.954230   \n",
       "1      SZ           buttontone  81.0547       Fz         -3.010002   \n",
       "2      SZ           buttontone  82.0313       Fz         -3.084806   \n",
       "3      SZ           buttontone  83.0078       Fz         -3.245439   \n",
       "4      SZ           buttontone  83.9844       Fz         -3.403181   \n",
       "..    ...                  ...      ...      ...               ...   \n",
       "58     SZ           buttontone  95.7031       Cz         -2.826234   \n",
       "59     SZ           buttontone  96.6797       Cz         -2.689376   \n",
       "60     SZ           buttontone  97.6563       Cz         -2.619291   \n",
       "61     SZ           buttontone  98.6328       Cz         -2.576625   \n",
       "62     SZ           buttontone  99.6094       Cz         -2.456791   \n",
       "\n",
       "   condition_playtone  value_playtone     value  \n",
       "0            playtone       -3.686901  0.732671  \n",
       "1            playtone       -3.769482  0.759480  \n",
       "2            playtone       -3.783958  0.699152  \n",
       "3            playtone       -3.865382  0.619943  \n",
       "4            playtone       -3.964036  0.560856  \n",
       "..                ...             ...       ...  \n",
       "58           playtone       -4.028085  1.201852  \n",
       "59           playtone       -3.955305  1.265928  \n",
       "60           playtone       -3.848882  1.229591  \n",
       "61           playtone       -3.766657  1.190032  \n",
       "62           playtone       -3.715881  1.259090  \n",
       "\n",
       "[63 rows x 8 columns]"
      ]
     },
     "execution_count": 34,
     "metadata": {},
     "output_type": "execute_result"
    }
   ],
   "source": [
    "merged_df = pd.merge(\n",
    "    SZ[(SZ.time_ms.between(80,100)) & (SZ.condition=='buttontone')],\n",
    "    SZ[(SZ.time_ms.between(80,100)) & (SZ.condition=='playtone')],\n",
    "    on=[' group', 'time_ms', 'variable'],\n",
    "    suffixes=('_buttontone', '_playtone')\n",
    ")\n",
    "\n",
    "merged_df['value'] = merged_df['value_buttontone'] - merged_df['value_playtone']\n",
    "merged_df"
   ]
  },
  {
   "cell_type": "code",
   "execution_count": 35,
   "id": "f3e2cc39",
   "metadata": {},
   "outputs": [
    {
     "name": "stdout",
     "output_type": "stream",
     "text": [
      "['Fz', 'FCz', 'Cz']\n",
      "<Evoked | '' (average, N=1), 0 – 0.02 sec, baseline off, 3 ch, ~9 kB>\n"
     ]
    },
    {
     "data": {
      "text/plain": [
       "<Evoked | '' (average, N=1), 0 – 0.02 sec, baseline off, 3 ch, ~11 kB>"
      ]
     },
     "execution_count": 35,
     "metadata": {},
     "output_type": "execute_result"
    }
   ],
   "source": [
    "g1 = merged_df.groupby(\"time_ms\")\n",
    "time_value = g1.apply(lambda r: list(r.value))\n",
    "subset = g1.apply(lambda r: list(r.variable)).iloc[0]\n",
    "print(subset)\n",
    "\n",
    "biosemi_montage = mne.channels.make_standard_montage('biosemi64')\n",
    "info = mne.create_info(subset, sfreq=1000., ch_types='eeg')\n",
    "\n",
    "earr = mne.EvokedArray(\n",
    "    np.array(time_value.tolist()).T,\n",
    "    info\n",
    ")\n",
    "print(earr)\n",
    "earr.set_montage(biosemi_montage)"
   ]
  },
  {
   "cell_type": "code",
   "execution_count": 36,
   "id": "d2e27a70",
   "metadata": {},
   "outputs": [
    {
     "data": {
      "image/png": "[encoded data removed]",
      "text/plain": [
       "<Figure size 576x288 with 1 Axes>"
      ]
     },
     "metadata": {},
     "output_type": "display_data"
    }
   ],
   "source": [
    "fig, ax = plt.subplots(ncols=1, figsize=(8, 4), gridspec_kw=dict(top=0.9),\n",
    "                       sharex=True, sharey=True)\n",
    "\n",
    "\n",
    "earr.plot_sensors(axes=ax,show=False)\n",
    "mne.viz.plot_topomap(np.mean(earr.data, axis=1),earr.info,show=False,axes=ax)\n",
    "plt.show()"
   ]
  },
  {
   "cell_type": "markdown",
   "id": "c70648c1",
   "metadata": {},
   "source": [
    "## Classification"
   ]
  },
  {
   "cell_type": "markdown",
   "id": "bf10802e",
   "metadata": {},
   "source": [
    "### Define Epoch, ERP Windows"
   ]
  },
  {
   "cell_type": "code",
   "execution_count": 37,
   "id": "1e664847",
   "metadata": {},
   "outputs": [],
   "source": [
    "fs = 1024 # Hz\n",
    "epoch_start = -1500  # ms\n",
    "epoch_end = 1500     # ms\n",
    "erp_s = 50\n",
    "erp_e = 250\n",
    "\n",
    "# ERP window\n",
    "s = np.round((erp_s - epoch_start) * (fs / 1000)).astype(int)\n",
    "e = np.round((erp_e - epoch_start) * (fs / 1000)).astype(int)\n",
    "\n",
    "\n",
    "# channel labels\n",
    "cols = list(pd.read_csv('columnLabels.csv'))\n",
    "channels = cols[4:]"
   ]
  },
  {
   "cell_type": "code",
   "execution_count": 38,
   "id": "f6fe7159",
   "metadata": {},
   "outputs": [],
   "source": [
    "df_9 = pd.read_csv('cleaned.csv')"
   ]
  },
  {
   "cell_type": "code",
   "execution_count": 39,
   "id": "4e1cb6e2",
   "metadata": {},
   "outputs": [],
   "source": [
    "train = df_9[(df_9['group']=='train')]\n",
    "test = df_9[(df_9['group']=='test')]"
   ]
  },
  {
   "cell_type": "code",
   "execution_count": 40,
   "id": "5c307990",
   "metadata": {},
   "outputs": [
    {
     "data": {
      "text/plain": [
       "4952       0\n",
       "4953       1\n",
       "4954       2\n",
       "4955       3\n",
       "4956       4\n",
       "        ... \n",
       "7435    2483\n",
       "7436    2484\n",
       "7437    2485\n",
       "7438    2486\n",
       "7439    2487\n",
       "Name: Unnamed: 0, Length: 2488, dtype: int64"
      ]
     },
     "execution_count": 40,
     "metadata": {},
     "output_type": "execute_result"
    }
   ],
   "source": [
    "test.iloc[:,0]"
   ]
  },
  {
   "cell_type": "code",
   "execution_count": 41,
   "id": "3d597d75",
   "metadata": {
    "scrolled": true
   },
   "outputs": [
    {
     "name": "stdout",
     "output_type": "stream",
     "text": [
      "(4952, 72)\n",
      "(4952,)\n"
     ]
    }
   ],
   "source": [
    "X_train = train.iloc[:, 1:-2]\n",
    "Y_train = train.iloc[:, -2]\n",
    "\n",
    "print(X_train.shape)\n",
    "print(Y_train.shape)"
   ]
  },
  {
   "cell_type": "code",
   "execution_count": 42,
   "id": "e3a6f456",
   "metadata": {},
   "outputs": [
    {
     "name": "stdout",
     "output_type": "stream",
     "text": [
      "(2488, 72)\n",
      "(2488,)\n"
     ]
    }
   ],
   "source": [
    "X_test = test.iloc[:, 1:-2]\n",
    "Y_test = test.iloc[:, -2]\n",
    "\n",
    "print(X_test.shape)\n",
    "print(Y_test.shape)"
   ]
  },
  {
   "cell_type": "code",
   "execution_count": 43,
   "id": "9d2f00db",
   "metadata": {},
   "outputs": [],
   "source": [
    "## LightGBM classifier"
   ]
  },
  {
   "cell_type": "code",
   "execution_count": 48,
   "id": "47f8640a",
   "metadata": {},
   "outputs": [],
   "source": [
    "\n",
    "lgb_classifier = LGBMClassifier(objective='binary', random_state=5)\n",
    "\n",
    "score = cross_val_score(lgb_classifier, X_train, Y_train, cv = 10)\n"
   ]
  },
  {
   "cell_type": "code",
   "execution_count": 91,
   "id": "d22b0b03",
   "metadata": {},
   "outputs": [
    {
     "name": "stdout",
     "output_type": "stream",
     "text": [
      "[0.78427419 0.78024194 0.82424242 0.78181818 0.79393939 0.77373737\n",
      " 0.8        0.70505051 0.57777778 0.68686869]\n",
      "LGB Classifier cv score: 0.750795\n",
      "LGB Classifier accuracy score: 1.000000\n",
      "LGB Classifier train AUC: 1.000000\n"
     ]
    }
   ],
   "source": [
    "# lgb classifier cv score\n",
    "train_pred = lgb_fit.predict(X_train)\n",
    "\n",
    "print(score)\n",
    "print(\"LGB Classifier cv score: %f\" %np.mean(score))\n",
    "print(\"LGB Classifier accuracy score: %f\" %accuracy_score(Y_train,train_pred))\n",
    "print(\"LGB Classifier train AUC: %f\" %roc_auc_score(Y_train, train_pred))"
   ]
  },
  {
   "cell_type": "code",
   "execution_count": 92,
   "id": "e2334627",
   "metadata": {},
   "outputs": [
    {
     "name": "stdout",
     "output_type": "stream",
     "text": [
      "LGB Classifier test accuracy: 0.719051\n",
      "LGB Classifier test AUC: 0.669772\n"
     ]
    }
   ],
   "source": [
    "lgb_fit = lgb_classifier.fit(X_train, Y_train)\n",
    "test_pred = lgb_fit.predict(X_test)\n",
    "test_acc = accuracy_score(Y_test,test_pred)\n",
    "\n",
    "print(\"LGB Classifier test accuracy: %f\" %test_acc)\n",
    "print(\"LGB Classifier test AUC: %f\" %roc_auc_score(Y_test, test_pred))"
   ]
  },
  {
   "cell_type": "code",
   "execution_count": 51,
   "id": "0ae66db1",
   "metadata": {},
   "outputs": [],
   "source": [
    "## XG boost classifier\n"
   ]
  },
  {
   "cell_type": "code",
   "execution_count": 60,
   "id": "24b8eff0",
   "metadata": {},
   "outputs": [
    {
     "name": "stderr",
     "output_type": "stream",
     "text": [
      "C:\\Users\\Jessica\\miniconda3\\envs\\cogs189\\lib\\site-packages\\xgboost\\sklearn.py:1224: UserWarning: The use of label encoder in XGBClassifier is deprecated and will be removed in a future release. To remove this warning, do the following: 1) Pass option use_label_encoder=False when constructing XGBClassifier object; and 2) Encode your labels (y) as integers starting with 0, i.e. 0, 1, 2, ..., [num_class - 1].\n",
      "  warnings.warn(label_encoder_deprecation_msg, UserWarning)\n",
      "C:\\Users\\Jessica\\miniconda3\\envs\\cogs189\\lib\\site-packages\\xgboost\\data.py:250: FutureWarning: pandas.Int64Index is deprecated and will be removed from pandas in a future version. Use pandas.Index with the appropriate dtype instead.\n",
      "  elif isinstance(data.columns, (pd.Int64Index, pd.RangeIndex)):\n"
     ]
    },
    {
     "name": "stdout",
     "output_type": "stream",
     "text": [
      "[00:51:15] WARNING: ..\\src\\learner.cc:1115: Starting in XGBoost 1.3.0, the default evaluation metric used with the objective 'binary:logistic' was changed from 'error' to 'logloss'. Explicitly set eval_metric if you'd like to restore the old behavior.\n"
     ]
    },
    {
     "name": "stderr",
     "output_type": "stream",
     "text": [
      "C:\\Users\\Jessica\\miniconda3\\envs\\cogs189\\lib\\site-packages\\xgboost\\sklearn.py:1224: UserWarning: The use of label encoder in XGBClassifier is deprecated and will be removed in a future release. To remove this warning, do the following: 1) Pass option use_label_encoder=False when constructing XGBClassifier object; and 2) Encode your labels (y) as integers starting with 0, i.e. 0, 1, 2, ..., [num_class - 1].\n",
      "  warnings.warn(label_encoder_deprecation_msg, UserWarning)\n",
      "C:\\Users\\Jessica\\miniconda3\\envs\\cogs189\\lib\\site-packages\\xgboost\\data.py:250: FutureWarning: pandas.Int64Index is deprecated and will be removed from pandas in a future version. Use pandas.Index with the appropriate dtype instead.\n",
      "  elif isinstance(data.columns, (pd.Int64Index, pd.RangeIndex)):\n"
     ]
    },
    {
     "name": "stdout",
     "output_type": "stream",
     "text": [
      "[00:51:21] WARNING: ..\\src\\learner.cc:1115: Starting in XGBoost 1.3.0, the default evaluation metric used with the objective 'binary:logistic' was changed from 'error' to 'logloss'. Explicitly set eval_metric if you'd like to restore the old behavior.\n"
     ]
    },
    {
     "name": "stderr",
     "output_type": "stream",
     "text": [
      "C:\\Users\\Jessica\\miniconda3\\envs\\cogs189\\lib\\site-packages\\xgboost\\sklearn.py:1224: UserWarning: The use of label encoder in XGBClassifier is deprecated and will be removed in a future release. To remove this warning, do the following: 1) Pass option use_label_encoder=False when constructing XGBClassifier object; and 2) Encode your labels (y) as integers starting with 0, i.e. 0, 1, 2, ..., [num_class - 1].\n",
      "  warnings.warn(label_encoder_deprecation_msg, UserWarning)\n",
      "C:\\Users\\Jessica\\miniconda3\\envs\\cogs189\\lib\\site-packages\\xgboost\\data.py:250: FutureWarning: pandas.Int64Index is deprecated and will be removed from pandas in a future version. Use pandas.Index with the appropriate dtype instead.\n",
      "  elif isinstance(data.columns, (pd.Int64Index, pd.RangeIndex)):\n"
     ]
    },
    {
     "name": "stdout",
     "output_type": "stream",
     "text": [
      "[00:51:27] WARNING: ..\\src\\learner.cc:1115: Starting in XGBoost 1.3.0, the default evaluation metric used with the objective 'binary:logistic' was changed from 'error' to 'logloss'. Explicitly set eval_metric if you'd like to restore the old behavior.\n"
     ]
    },
    {
     "name": "stderr",
     "output_type": "stream",
     "text": [
      "C:\\Users\\Jessica\\miniconda3\\envs\\cogs189\\lib\\site-packages\\xgboost\\sklearn.py:1224: UserWarning: The use of label encoder in XGBClassifier is deprecated and will be removed in a future release. To remove this warning, do the following: 1) Pass option use_label_encoder=False when constructing XGBClassifier object; and 2) Encode your labels (y) as integers starting with 0, i.e. 0, 1, 2, ..., [num_class - 1].\n",
      "  warnings.warn(label_encoder_deprecation_msg, UserWarning)\n",
      "C:\\Users\\Jessica\\miniconda3\\envs\\cogs189\\lib\\site-packages\\xgboost\\data.py:250: FutureWarning: pandas.Int64Index is deprecated and will be removed from pandas in a future version. Use pandas.Index with the appropriate dtype instead.\n",
      "  elif isinstance(data.columns, (pd.Int64Index, pd.RangeIndex)):\n"
     ]
    },
    {
     "name": "stdout",
     "output_type": "stream",
     "text": [
      "[00:51:33] WARNING: ..\\src\\learner.cc:1115: Starting in XGBoost 1.3.0, the default evaluation metric used with the objective 'binary:logistic' was changed from 'error' to 'logloss'. Explicitly set eval_metric if you'd like to restore the old behavior.\n"
     ]
    },
    {
     "name": "stderr",
     "output_type": "stream",
     "text": [
      "C:\\Users\\Jessica\\miniconda3\\envs\\cogs189\\lib\\site-packages\\xgboost\\sklearn.py:1224: UserWarning: The use of label encoder in XGBClassifier is deprecated and will be removed in a future release. To remove this warning, do the following: 1) Pass option use_label_encoder=False when constructing XGBClassifier object; and 2) Encode your labels (y) as integers starting with 0, i.e. 0, 1, 2, ..., [num_class - 1].\n",
      "  warnings.warn(label_encoder_deprecation_msg, UserWarning)\n",
      "C:\\Users\\Jessica\\miniconda3\\envs\\cogs189\\lib\\site-packages\\xgboost\\data.py:250: FutureWarning: pandas.Int64Index is deprecated and will be removed from pandas in a future version. Use pandas.Index with the appropriate dtype instead.\n",
      "  elif isinstance(data.columns, (pd.Int64Index, pd.RangeIndex)):\n"
     ]
    },
    {
     "name": "stdout",
     "output_type": "stream",
     "text": [
      "[00:51:39] WARNING: ..\\src\\learner.cc:1115: Starting in XGBoost 1.3.0, the default evaluation metric used with the objective 'binary:logistic' was changed from 'error' to 'logloss'. Explicitly set eval_metric if you'd like to restore the old behavior.\n"
     ]
    },
    {
     "name": "stderr",
     "output_type": "stream",
     "text": [
      "C:\\Users\\Jessica\\miniconda3\\envs\\cogs189\\lib\\site-packages\\xgboost\\sklearn.py:1224: UserWarning: The use of label encoder in XGBClassifier is deprecated and will be removed in a future release. To remove this warning, do the following: 1) Pass option use_label_encoder=False when constructing XGBClassifier object; and 2) Encode your labels (y) as integers starting with 0, i.e. 0, 1, 2, ..., [num_class - 1].\n",
      "  warnings.warn(label_encoder_deprecation_msg, UserWarning)\n",
      "C:\\Users\\Jessica\\miniconda3\\envs\\cogs189\\lib\\site-packages\\xgboost\\data.py:250: FutureWarning: pandas.Int64Index is deprecated and will be removed from pandas in a future version. Use pandas.Index with the appropriate dtype instead.\n",
      "  elif isinstance(data.columns, (pd.Int64Index, pd.RangeIndex)):\n"
     ]
    },
    {
     "name": "stdout",
     "output_type": "stream",
     "text": [
      "[00:51:44] WARNING: ..\\src\\learner.cc:1115: Starting in XGBoost 1.3.0, the default evaluation metric used with the objective 'binary:logistic' was changed from 'error' to 'logloss'. Explicitly set eval_metric if you'd like to restore the old behavior.\n"
     ]
    },
    {
     "name": "stderr",
     "output_type": "stream",
     "text": [
      "C:\\Users\\Jessica\\miniconda3\\envs\\cogs189\\lib\\site-packages\\xgboost\\sklearn.py:1224: UserWarning: The use of label encoder in XGBClassifier is deprecated and will be removed in a future release. To remove this warning, do the following: 1) Pass option use_label_encoder=False when constructing XGBClassifier object; and 2) Encode your labels (y) as integers starting with 0, i.e. 0, 1, 2, ..., [num_class - 1].\n",
      "  warnings.warn(label_encoder_deprecation_msg, UserWarning)\n",
      "C:\\Users\\Jessica\\miniconda3\\envs\\cogs189\\lib\\site-packages\\xgboost\\data.py:250: FutureWarning: pandas.Int64Index is deprecated and will be removed from pandas in a future version. Use pandas.Index with the appropriate dtype instead.\n",
      "  elif isinstance(data.columns, (pd.Int64Index, pd.RangeIndex)):\n"
     ]
    },
    {
     "name": "stdout",
     "output_type": "stream",
     "text": [
      "[00:51:50] WARNING: ..\\src\\learner.cc:1115: Starting in XGBoost 1.3.0, the default evaluation metric used with the objective 'binary:logistic' was changed from 'error' to 'logloss'. Explicitly set eval_metric if you'd like to restore the old behavior.\n"
     ]
    },
    {
     "name": "stderr",
     "output_type": "stream",
     "text": [
      "C:\\Users\\Jessica\\miniconda3\\envs\\cogs189\\lib\\site-packages\\xgboost\\sklearn.py:1224: UserWarning: The use of label encoder in XGBClassifier is deprecated and will be removed in a future release. To remove this warning, do the following: 1) Pass option use_label_encoder=False when constructing XGBClassifier object; and 2) Encode your labels (y) as integers starting with 0, i.e. 0, 1, 2, ..., [num_class - 1].\n",
      "  warnings.warn(label_encoder_deprecation_msg, UserWarning)\n",
      "C:\\Users\\Jessica\\miniconda3\\envs\\cogs189\\lib\\site-packages\\xgboost\\data.py:250: FutureWarning: pandas.Int64Index is deprecated and will be removed from pandas in a future version. Use pandas.Index with the appropriate dtype instead.\n",
      "  elif isinstance(data.columns, (pd.Int64Index, pd.RangeIndex)):\n"
     ]
    },
    {
     "name": "stdout",
     "output_type": "stream",
     "text": [
      "[00:51:57] WARNING: ..\\src\\learner.cc:1115: Starting in XGBoost 1.3.0, the default evaluation metric used with the objective 'binary:logistic' was changed from 'error' to 'logloss'. Explicitly set eval_metric if you'd like to restore the old behavior.\n"
     ]
    },
    {
     "name": "stderr",
     "output_type": "stream",
     "text": [
      "C:\\Users\\Jessica\\miniconda3\\envs\\cogs189\\lib\\site-packages\\xgboost\\sklearn.py:1224: UserWarning: The use of label encoder in XGBClassifier is deprecated and will be removed in a future release. To remove this warning, do the following: 1) Pass option use_label_encoder=False when constructing XGBClassifier object; and 2) Encode your labels (y) as integers starting with 0, i.e. 0, 1, 2, ..., [num_class - 1].\n",
      "  warnings.warn(label_encoder_deprecation_msg, UserWarning)\n",
      "C:\\Users\\Jessica\\miniconda3\\envs\\cogs189\\lib\\site-packages\\xgboost\\data.py:250: FutureWarning: pandas.Int64Index is deprecated and will be removed from pandas in a future version. Use pandas.Index with the appropriate dtype instead.\n",
      "  elif isinstance(data.columns, (pd.Int64Index, pd.RangeIndex)):\n"
     ]
    },
    {
     "name": "stdout",
     "output_type": "stream",
     "text": [
      "[00:52:04] WARNING: ..\\src\\learner.cc:1115: Starting in XGBoost 1.3.0, the default evaluation metric used with the objective 'binary:logistic' was changed from 'error' to 'logloss'. Explicitly set eval_metric if you'd like to restore the old behavior.\n"
     ]
    },
    {
     "name": "stderr",
     "output_type": "stream",
     "text": [
      "C:\\Users\\Jessica\\miniconda3\\envs\\cogs189\\lib\\site-packages\\xgboost\\sklearn.py:1224: UserWarning: The use of label encoder in XGBClassifier is deprecated and will be removed in a future release. To remove this warning, do the following: 1) Pass option use_label_encoder=False when constructing XGBClassifier object; and 2) Encode your labels (y) as integers starting with 0, i.e. 0, 1, 2, ..., [num_class - 1].\n",
      "  warnings.warn(label_encoder_deprecation_msg, UserWarning)\n",
      "C:\\Users\\Jessica\\miniconda3\\envs\\cogs189\\lib\\site-packages\\xgboost\\data.py:250: FutureWarning: pandas.Int64Index is deprecated and will be removed from pandas in a future version. Use pandas.Index with the appropriate dtype instead.\n",
      "  elif isinstance(data.columns, (pd.Int64Index, pd.RangeIndex)):\n"
     ]
    },
    {
     "name": "stdout",
     "output_type": "stream",
     "text": [
      "[00:52:11] WARNING: ..\\src\\learner.cc:1115: Starting in XGBoost 1.3.0, the default evaluation metric used with the objective 'binary:logistic' was changed from 'error' to 'logloss'. Explicitly set eval_metric if you'd like to restore the old behavior.\n"
     ]
    }
   ],
   "source": [
    "xgb_classifier = XGBClassifier()\n",
    "\n",
    "xgb_score = cross_val_score(xgb_classifier, X_train, Y_train, cv = 10)"
   ]
  },
  {
   "cell_type": "code",
   "execution_count": 86,
   "id": "12a0f77c",
   "metadata": {},
   "outputs": [
    {
     "name": "stdout",
     "output_type": "stream",
     "text": [
      "[0.7641129  0.75806452 0.81616162 0.77171717 0.72727273 0.72929293\n",
      " 0.7979798  0.70707071 0.58989899 0.68080808]\n",
      "XGBoost Classifier cv score: 0.734238\n",
      "XGBoost Classifier accuracy score: 1.000000\n",
      "XGBoost Classifier test AUC: 1.000000\n"
     ]
    }
   ],
   "source": [
    "# xgb classifier cv score\n",
    "\n",
    "train_pred = xgb_fit.predict(X_train)\n",
    "print(xgb_score)\n",
    "print(\"XGBoost Classifier cv score: %f\" %np.mean(xgb_score))\n",
    "print(\"XGBoost Classifier accuracy score: %f\" %accuracy_score(Y_train,train_pred))\n",
    "print(\"XGBoost Classifier test AUC: %f\" %roc_auc_score(Y_train, train_pred))"
   ]
  },
  {
   "cell_type": "code",
   "execution_count": 85,
   "id": "ea241fed",
   "metadata": {},
   "outputs": [
    {
     "data": {
      "text/plain": [
       "1.0"
      ]
     },
     "execution_count": 85,
     "metadata": {},
     "output_type": "execute_result"
    }
   ],
   "source": []
  },
  {
   "cell_type": "code",
   "execution_count": 76,
   "id": "430e8dcf",
   "metadata": {
    "scrolled": true
   },
   "outputs": [
    {
     "name": "stderr",
     "output_type": "stream",
     "text": [
      "C:\\Users\\Jessica\\miniconda3\\envs\\cogs189\\lib\\site-packages\\xgboost\\sklearn.py:1224: UserWarning: The use of label encoder in XGBClassifier is deprecated and will be removed in a future release. To remove this warning, do the following: 1) Pass option use_label_encoder=False when constructing XGBClassifier object; and 2) Encode your labels (y) as integers starting with 0, i.e. 0, 1, 2, ..., [num_class - 1].\n",
      "  warnings.warn(label_encoder_deprecation_msg, UserWarning)\n",
      "C:\\Users\\Jessica\\miniconda3\\envs\\cogs189\\lib\\site-packages\\xgboost\\data.py:250: FutureWarning: pandas.Int64Index is deprecated and will be removed from pandas in a future version. Use pandas.Index with the appropriate dtype instead.\n",
      "  elif isinstance(data.columns, (pd.Int64Index, pd.RangeIndex)):\n"
     ]
    },
    {
     "name": "stdout",
     "output_type": "stream",
     "text": [
      "[16:29:22] WARNING: ..\\src\\learner.cc:1115: Starting in XGBoost 1.3.0, the default evaluation metric used with the objective 'binary:logistic' was changed from 'error' to 'logloss'. Explicitly set eval_metric if you'd like to restore the old behavior.\n",
      "XGBoost Classifier test accuracy: 0.718650\n",
      "XGBoost Classifier test AUC: 0.672657\n"
     ]
    }
   ],
   "source": [
    "xgb_fit = xgb_classifier.fit(X_train, Y_train)\n",
    "test_pred = xgb_fit.predict(X_test)\n",
    "test_acc = accuracy_score(Y_test,test_pred)\n",
    "\n",
    "print(\"XGBoost Classifier test accuracy: %f\" %test_acc)\n",
    "print(\"XGBoost Classifier test AUC: %f\" %roc_auc_score(Y_test,test_pred))"
   ]
  },
  {
   "cell_type": "code",
   "execution_count": null,
   "id": "3fee25a0",
   "metadata": {},
   "outputs": [],
   "source": []
  }
 ],
 "metadata": {
  "kernelspec": {
   "display_name": "Python 3 (ipykernel)",
   "language": "python",
   "name": "python3"
  },
  "language_info": {
   "codemirror_mode": {
    "name": "ipython",
    "version": 3
   },
   "file_extension": ".py",
   "mimetype": "text/x-python",
   "name": "python",
   "nbconvert_exporter": "python",
   "pygments_lexer": "ipython3",
   "version": "3.9.7"
  }
 },
 "nbformat": 4,
 "nbformat_minor": 5
}
